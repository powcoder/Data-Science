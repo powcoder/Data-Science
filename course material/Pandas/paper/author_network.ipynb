{
    "metadata": {
        "kernelspec": {
            "name": "python3",
            "display_name": "Python 3 (ipykernel)",
            "language": "python"
        }
    },
    "nbformat": 4,
    "nbformat_minor": 2,
    "cells": [
        {
            "attachments": {},
            "cell_type": "markdown",
            "metadata": {},
            "source": [
                "## Exploratory data analysis\n",
                "\n",
                "We want more students to do research with professors. The incentives seem to exist: professors need students to publish and students need professors for guidance (what to ask, **what papers to read**, where to publish, etc).\n",
                "\n",
                "We have anecdotal evidence that\n",
                "- If students approach professors without any direction, chances are low\n",
                "- If students approach with their own problem, chances are better\n",
                "- If students approach knowing the professor's research, chances are much better.\n",
                "\n",
                "So our initial dataset only has\n",
                "- authors and the papers they wrote in `author_and_papers.csv`\n",
                "- papers and the references in `paper_and_references.csv`\n",
                "\n",
                ""
            ]
        },
        {
            "attachments": {},
            "cell_type": "markdown",
            "metadata": {},
            "source": [
                "## Task 1 - basic exploration\n",
                "\n",
                "- Load the data\n",
                "- For both datasets, look at the first few, last few, and a random sample of records in the datasets (hint: `pandas.DataFrame.sample()`).\n",
                "- (no code) Why do we care about looking at a few records\n",
                "- How many professors are there in our dataset? (Multiple answers!)\n",
                "- How many papers are in our dataset? (Multiple answers!)"
            ]
        },
        {
            "cell_type": "code",
            "execution_count": 2,
            "metadata": {},
            "outputs": [],
            "source": [
                "import pandas as pd"
            ]
        },
        {
            "cell_type": "code",
            "execution_count": 3,
            "metadata": {},
            "outputs": [],
            "source": [
                "auth_pap = pd.read_csv(\"author_and_papers.csv\")\n",
                "biblio = pd.read_csv(\"paper_and_references.csv\")"
            ]
        },
        {
            "cell_type": "code",
            "execution_count": 4,
            "metadata": {},
            "outputs": [
                {
                    "data": {
                        "text/html": "\u003cdiv\u003e\n\u003cstyle scoped\u003e\n    .dataframe tbody tr th:only-of-type {\n        vertical-align: middle;\n    }\n\n    .dataframe tbody tr th {\n        vertical-align: top;\n    }\n\n    .dataframe thead th {\n        text-align: right;\n    }\n\u003c/style\u003e\n\u003ctable border=\"1\" class=\"dataframe\"\u003e\n  \u003cthead\u003e\n    \u003ctr style=\"text-align: right;\"\u003e\n      \u003cth\u003e\u003c/th\u003e\n      \u003cth\u003eUnnamed: 0\u003c/th\u003e\n      \u003cth\u003eauth_id\u003c/th\u003e\n      \u003cth\u003eauth_title\u003c/th\u003e\n      \u003cth\u003eref_id\u003c/th\u003e\n      \u003cth\u003eref_title\u003c/th\u003e\n    \u003c/tr\u003e\n  \u003c/thead\u003e\n  \u003ctbody\u003e\n    \u003ctr\u003e\n      \u003cth\u003e0\u003c/th\u003e\n      \u003ctd\u003e0\u003c/td\u003e\n      \u003ctd\u003e20\u003c/td\u003e\n      \u003ctd\u003eNonlinear evolution via spatially-dependent li...\u003c/td\u003e\n      \u003ctd\u003e278\u003c/td\u003e\n      \u003ctd\u003ePenalized matrix decomposition for denoising, ...\u003c/td\u003e\n    \u003c/tr\u003e\n    \u003ctr\u003e\n      \u003cth\u003e1\u003c/th\u003e\n      \u003ctd\u003e1\u003c/td\u003e\n      \u003ctd\u003e20\u003c/td\u003e\n      \u003ctd\u003eNonlinear evolution via spatially-dependent li...\u003c/td\u003e\n      \u003ctd\u003e1392\u003c/td\u003e\n      \u003ctd\u003eResting-state hemodynamics are spatiotemporall...\u003c/td\u003e\n    \u003c/tr\u003e\n    \u003ctr\u003e\n      \u003cth\u003e2\u003c/th\u003e\n      \u003ctd\u003e2\u003c/td\u003e\n      \u003ctd\u003e20\u003c/td\u003e\n      \u003ctd\u003eNonlinear evolution via spatially-dependent li...\u003c/td\u003e\n      \u003ctd\u003e1498\u003c/td\u003e\n      \u003ctd\u003eWide-field optical mapping of neural activity ...\u003c/td\u003e\n    \u003c/tr\u003e\n  \u003c/tbody\u003e\n\u003c/table\u003e\n\u003c/div\u003e",
                        "text/plain": "   Unnamed: 0  auth_id                                         auth_title  \\\n0           0       20  Nonlinear evolution via spatially-dependent li...   \n1           1       20  Nonlinear evolution via spatially-dependent li...   \n2           2       20  Nonlinear evolution via spatially-dependent li...   \n\n   ref_id                                          ref_title  \n0     278  Penalized matrix decomposition for denoising, ...  \n1    1392  Resting-state hemodynamics are spatiotemporall...  \n2    1498  Wide-field optical mapping of neural activity ...  "
                    },
                    "execution_count": 4,
                    "metadata": {},
                    "output_type": "execute_result"
                }
            ],
            "source": [
                "biblio.head(3)"
            ]
        },
        {
            "cell_type": "code",
            "execution_count": 5,
            "metadata": {},
            "outputs": [
                {
                    "data": {
                        "text/html": "\u003cdiv\u003e\n\u003cstyle scoped\u003e\n    .dataframe tbody tr th:only-of-type {\n        vertical-align: middle;\n    }\n\n    .dataframe tbody tr th {\n        vertical-align: top;\n    }\n\n    .dataframe thead th {\n        text-align: right;\n    }\n\u003c/style\u003e\n\u003ctable border=\"1\" class=\"dataframe\"\u003e\n  \u003cthead\u003e\n    \u003ctr style=\"text-align: right;\"\u003e\n      \u003cth\u003e\u003c/th\u003e\n      \u003cth\u003eUnnamed: 0\u003c/th\u003e\n      \u003cth\u003eauth_id\u003c/th\u003e\n      \u003cth\u003eauth_title\u003c/th\u003e\n      \u003cth\u003eref_id\u003c/th\u003e\n      \u003cth\u003eref_title\u003c/th\u003e\n    \u003c/tr\u003e\n  \u003c/thead\u003e\n  \u003ctbody\u003e\n    \u003ctr\u003e\n      \u003cth\u003e3718\u003c/th\u003e\n      \u003ctd\u003e3718\u003c/td\u003e\n      \u003ctd\u003e11636\u003c/td\u003e\n      \u003ctd\u003ePopulation predictive checks\u003c/td\u003e\n      \u003ctd\u003e11705\u003c/td\u003e\n      \u003ctd\u003eScalable bayes via barycenter in wasserstein s...\u003c/td\u003e\n    \u003c/tr\u003e\n    \u003ctr\u003e\n      \u003cth\u003e3719\u003c/th\u003e\n      \u003ctd\u003e3719\u003c/td\u003e\n      \u003ctd\u003e11636\u003c/td\u003e\n      \u003ctd\u003ePopulation predictive checks\u003c/td\u003e\n      \u003ctd\u003e11706\u003c/td\u003e\n      \u003ctd\u003eStan r\u0026amp;d: research and development expenditure...\u003c/td\u003e\n    \u003c/tr\u003e\n    \u003ctr\u003e\n      \u003cth\u003e3720\u003c/th\u003e\n      \u003ctd\u003e3720\u003c/td\u003e\n      \u003ctd\u003e11636\u003c/td\u003e\n      \u003ctd\u003ePopulation predictive checks\u003c/td\u003e\n      \u003ctd\u003e11709\u003c/td\u003e\n      \u003ctd\u003eCross-validatory choice and assessment of stat...\u003c/td\u003e\n    \u003c/tr\u003e\n  \u003c/tbody\u003e\n\u003c/table\u003e\n\u003c/div\u003e",
                        "text/plain": "      Unnamed: 0  auth_id                    auth_title  ref_id  \\\n3718        3718    11636  Population predictive checks   11705   \n3719        3719    11636  Population predictive checks   11706   \n3720        3720    11636  Population predictive checks   11709   \n\n                                              ref_title  \n3718  Scalable bayes via barycenter in wasserstein s...  \n3719  Stan r\u0026d: research and development expenditure...  \n3720  Cross-validatory choice and assessment of stat...  "
                    },
                    "execution_count": 5,
                    "metadata": {},
                    "output_type": "execute_result"
                }
            ],
            "source": [
                "biblio.tail(3)"
            ]
        },
        {
            "cell_type": "code",
            "execution_count": 6,
            "metadata": {},
            "outputs": [
                {
                    "data": {
                        "text/html": "\u003cdiv\u003e\n\u003cstyle scoped\u003e\n    .dataframe tbody tr th:only-of-type {\n        vertical-align: middle;\n    }\n\n    .dataframe tbody tr th {\n        vertical-align: top;\n    }\n\n    .dataframe thead th {\n        text-align: right;\n    }\n\u003c/style\u003e\n\u003ctable border=\"1\" class=\"dataframe\"\u003e\n  \u003cthead\u003e\n    \u003ctr style=\"text-align: right;\"\u003e\n      \u003cth\u003e\u003c/th\u003e\n      \u003cth\u003eUnnamed: 0\u003c/th\u003e\n      \u003cth\u003eauthor_id\u003c/th\u003e\n      \u003cth\u003egiven_name\u003c/th\u003e\n      \u003cth\u003efamily_name\u003c/th\u003e\n      \u003cth\u003emiddle_name\u003c/th\u003e\n      \u003cth\u003epaper_id\u003c/th\u003e\n      \u003cth\u003epaper_title\u003c/th\u003e\n    \u003c/tr\u003e\n  \u003c/thead\u003e\n  \u003ctbody\u003e\n    \u003ctr\u003e\n      \u003cth\u003e2114\u003c/th\u003e\n      \u003ctd\u003e2114\u003c/td\u003e\n      \u003ctd\u003e114\u003c/td\u003e\n      \u003ctd\u003eMatteo\u003c/td\u003e\n      \u003ctd\u003eCarandini\u003c/td\u003e\n      \u003ctd\u003eNaN\u003c/td\u003e\n      \u003ctd\u003e1478\u003c/td\u003e\n      \u003ctd\u003eDistinct contributions of mouse cortical areas...\u003c/td\u003e\n    \u003c/tr\u003e\n    \u003ctr\u003e\n      \u003cth\u003e1613\u003c/th\u003e\n      \u003ctd\u003e1613\u003c/td\u003e\n      \u003ctd\u003e1046\u003c/td\u003e\n      \u003ctd\u003eTheodoros\u003c/td\u003e\n      \u003ctd\u003eTsiligkaridis\u003c/td\u003e\n      \u003ctd\u003eNaN\u003c/td\u003e\n      \u003ctd\u003e1051\u003c/td\u003e\n      \u003ctd\u003eCovariance estimation in high dimensions via k...\u003c/td\u003e\n    \u003c/tr\u003e\n    \u003ctr\u003e\n      \u003cth\u003e551\u003c/th\u003e\n      \u003ctd\u003e551\u003c/td\u003e\n      \u003ctd\u003e3706\u003c/td\u003e\n      \u003ctd\u003eNelson\u003c/td\u003e\n      \u003ctd\u003eCowan\u003c/td\u003e\n      \u003ctd\u003eNaN\u003c/td\u003e\n      \u003ctd\u003e299\u003c/td\u003e\n      \u003ctd\u003eNaN\u003c/td\u003e\n    \u003c/tr\u003e\n  \u003c/tbody\u003e\n\u003c/table\u003e\n\u003c/div\u003e",
                        "text/plain": "      Unnamed: 0  author_id given_name    family_name middle_name  paper_id  \\\n2114        2114        114     Matteo      Carandini         NaN      1478   \n1613        1613       1046  Theodoros  Tsiligkaridis         NaN      1051   \n551          551       3706     Nelson          Cowan         NaN       299   \n\n                                            paper_title  \n2114  Distinct contributions of mouse cortical areas...  \n1613  Covariance estimation in high dimensions via k...  \n551                                                 NaN  "
                    },
                    "execution_count": 6,
                    "metadata": {},
                    "output_type": "execute_result"
                }
            ],
            "source": [
                "auth_pap.sample(3)"
            ]
        },
        {
            "cell_type": "code",
            "execution_count": 6,
            "metadata": {},
            "outputs": [
                {
                    "data": {
                        "text/plain": "(7098,)"
                    },
                    "execution_count": 6,
                    "metadata": {},
                    "output_type": "execute_result"
                }
            ],
            "source": [
                "auth_pap.author_id.unique().shape"
            ]
        },
        {
            "attachments": {},
            "cell_type": "markdown",
            "metadata": {},
            "source": [
                "## Why care about a few records?\n",
                "\n",
                "Data is rarely entered randomly. Seeing the beginning and ending records can inform us about possible rules governing the data entry (e.g. by time, by alphebet) and whether certain format changes have occurred.\n",
                "A random sample is useful to catching unexpected things (e.g. missing data) in the data."
            ]
        },
        {
            "cell_type": "code",
            "execution_count": 7,
            "metadata": {},
            "outputs": [],
            "source": [
                ""
            ]
        },
        {
            "attachments": {},
            "cell_type": "markdown",
            "metadata": {},
            "source": [
                "## Number of Prof"
            ]
        },
        {
            "cell_type": "code",
            "execution_count": 18,
            "metadata": {},
            "outputs": [],
            "source": [
                "num_prof = auth_pap.author_id.unique().shape[0]"
            ]
        },
        {
            "cell_type": "code",
            "execution_count": 19,
            "metadata": {},
            "outputs": [
                {
                    "name": "stdout",
                    "output_type": "stream",
                    "text": "there are 7098 number of professors in the dataset\n"
                }
            ],
            "source": [
                "print(\"there are {num_prof} number of professors in the dataset\".format(num_prof=num_prof))"
            ]
        },
        {
            "attachments": {},
            "cell_type": "markdown",
            "metadata": {},
            "source": [
                "## Getting paper count"
            ]
        },
        {
            "cell_type": "code",
            "execution_count": 0,
            "metadata": {},
            "outputs": [],
            "source": [
                ""
            ]
        },
        {
            "cell_type": "code",
            "execution_count": 21,
            "metadata": {},
            "outputs": [],
            "source": [
                "paper_set1 = biblio.auth_title.unique().tolist()"
            ]
        },
        {
            "cell_type": "code",
            "execution_count": 22,
            "metadata": {},
            "outputs": [],
            "source": [
                "paper_set2 = biblio.ref_title.unique().tolist()"
            ]
        },
        {
            "cell_type": "code",
            "execution_count": 23,
            "metadata": {},
            "outputs": [],
            "source": [
                "paper_set3 = auth_pap.paper_title.unique().tolist()"
            ]
        },
        {
            "cell_type": "code",
            "execution_count": 28,
            "metadata": {},
            "outputs": [
                {
                    "data": {
                        "text/plain": "6123"
                    },
                    "execution_count": 28,
                    "metadata": {},
                    "output_type": "execute_result"
                }
            ],
            "source": [
                "pap_titles = paper_set1 + paper_set2 + paper_set3\n",
                "len(pap_titles)"
            ]
        },
        {
            "cell_type": "code",
            "execution_count": 30,
            "metadata": {},
            "outputs": [
                {
                    "data": {
                        "text/plain": "3090"
                    },
                    "execution_count": 30,
                    "metadata": {},
                    "output_type": "execute_result"
                }
            ],
            "source": [
                "# set() can only hold unique values\n",
                "len(set([str(title).lower() for title in pap_titles]))"
            ]
        },
        {
            "cell_type": "code",
            "execution_count": 0,
            "metadata": {},
            "outputs": [],
            "source": [
                ""
            ]
        },
        {
            "attachments": {},
            "cell_type": "markdown",
            "metadata": {},
            "source": [
                "## Task 2 - Some analysis\n",
                "\n",
                "Calculate, then graph the following:\n",
                "- How many papers are associated with each professor?\n",
                "- How many authors does each paper have?\n",
                "- How many references does each paper have?\n",
                "- Are the same references being used by multiple papers?"
            ]
        },
        {
            "cell_type": "code",
            "execution_count": 19,
            "metadata": {},
            "outputs": [],
            "source": [
                "# for-loop over the unique set"
            ]
        },
        {
            "cell_type": "code",
            "execution_count": 23,
            "metadata": {},
            "outputs": [],
            "source": [
                "# pandas.DataFrame.groupby()"
            ]
        },
        {
            "cell_type": "code",
            "execution_count": 41,
            "metadata": {},
            "outputs": [
                {
                    "data": {
                        "text/html": "\u003cdiv\u003e\n\u003cstyle scoped\u003e\n    .dataframe tbody tr th:only-of-type {\n        vertical-align: middle;\n    }\n\n    .dataframe tbody tr th {\n        vertical-align: top;\n    }\n\n    .dataframe thead th {\n        text-align: right;\n    }\n\u003c/style\u003e\n\u003ctable border=\"1\" class=\"dataframe\"\u003e\n  \u003cthead\u003e\n    \u003ctr style=\"text-align: right;\"\u003e\n      \u003cth\u003e\u003c/th\u003e\n      \u003cth\u003eUnnamed: 0\u003c/th\u003e\n      \u003cth\u003eauthor_id\u003c/th\u003e\n      \u003cth\u003egiven_name\u003c/th\u003e\n      \u003cth\u003efamily_name\u003c/th\u003e\n      \u003cth\u003emiddle_name\u003c/th\u003e\n      \u003cth\u003epaper_id\u003c/th\u003e\n      \u003cth\u003epaper_title\u003c/th\u003e\n    \u003c/tr\u003e\n  \u003c/thead\u003e\n  \u003ctbody\u003e\n    \u003ctr\u003e\n      \u003cth\u003e0\u003c/th\u003e\n      \u003ctd\u003e0\u003c/td\u003e\n      \u003ctd\u003e2\u003c/td\u003e\n      \u003ctd\u003eS\u003c/td\u003e\n      \u003ctd\u003eRahmann\u003c/td\u003e\n      \u003ctd\u003eNaN\u003c/td\u003e\n      \u003ctd\u003e4\u003c/td\u003e\n      \u003ctd\u003eSnakemake--a scalable bioinformatics workflow ...\u003c/td\u003e\n    \u003c/tr\u003e\n    \u003ctr\u003e\n      \u003cth\u003e1\u003c/th\u003e\n      \u003ctd\u003e1\u003c/td\u003e\n      \u003ctd\u003e1678\u003c/td\u003e\n      \u003ctd\u003eJ\u003c/td\u003e\n      \u003ctd\u003eKoster\u003c/td\u003e\n      \u003ctd\u003eNaN\u003c/td\u003e\n      \u003ctd\u003e4\u003c/td\u003e\n      \u003ctd\u003eSnakemake--a scalable bioinformatics workflow ...\u003c/td\u003e\n    \u003c/tr\u003e\n    \u003ctr\u003e\n      \u003cth\u003e2\u003c/th\u003e\n      \u003ctd\u003e2\u003c/td\u003e\n      \u003ctd\u003e109\u003c/td\u003e\n      \u003ctd\u003eVictoria\u003c/td\u003e\n      \u003ctd\u003eStodden\u003c/td\u003e\n      \u003ctd\u003eNaN\u003c/td\u003e\n      \u003ctd\u003e15\u003c/td\u003e\n      \u003ctd\u003eScientific tests and continuous integration st...\u003c/td\u003e\n    \u003c/tr\u003e\n  \u003c/tbody\u003e\n\u003c/table\u003e\n\u003c/div\u003e",
                        "text/plain": "   Unnamed: 0  author_id given_name family_name middle_name  paper_id  \\\n0           0          2          S     Rahmann         NaN         4   \n1           1       1678          J      Koster         NaN         4   \n2           2        109   Victoria     Stodden         NaN        15   \n\n                                         paper_title  \n0  Snakemake--a scalable bioinformatics workflow ...  \n1  Snakemake--a scalable bioinformatics workflow ...  \n2  Scientific tests and continuous integration st...  "
                    },
                    "execution_count": 41,
                    "metadata": {},
                    "output_type": "execute_result"
                }
            ],
            "source": [
                "auth_pap.head(3)"
            ]
        },
        {
            "cell_type": "code",
            "execution_count": 31,
            "metadata": {},
            "outputs": [],
            "source": [
                ""
            ]
        },
        {
            "cell_type": "code",
            "execution_count": 32,
            "metadata": {},
            "outputs": [],
            "source": [
                "# Approach 1, using for-loops\n",
                "paper_count = []\n",
                "for prof in auth_pap.author_id.unique():\n",
                "    is_target_prof = auth_pap.author_id == prof\n",
                "    paps_by_target_auth = auth_pap.loc[is_target_prof, \"paper_id\"].unique()\n",
                "    paper_count.append(paps_by_target_auth.shape[0])"
            ]
        },
        {
            "cell_type": "code",
            "execution_count": 33,
            "metadata": {},
            "outputs": [
                {
                    "data": {
                        "text/plain": "\u003cAxesSubplot:ylabel='Count'\u003e"
                    },
                    "execution_count": 33,
                    "metadata": {},
                    "output_type": "execute_result"
                },
                {
                    "data": {
                        "image/png": "[encoded data removed]",
                        "text/plain": "\u003cFigure size 432x288 with 1 Axes\u003e"
                    },
                    "metadata": {
                        "needs_background": "light"
                    },
                    "output_type": "display_data"
                }
            ],
            "source": [
                "import seaborn as sns\n",
                "\n",
                "sns.histplot(paper_count)"
            ]
        },
        {
            "cell_type": "code",
            "execution_count": 0,
            "metadata": {},
            "outputs": [],
            "source": [
                ""
            ]
        },
        {
            "cell_type": "code",
            "execution_count": 34,
            "metadata": {},
            "outputs": [],
            "source": [
                "auth_count = auth_pap.loc[:, [\"paper_id\", \"author_id\"]].drop_duplicates().groupby(\"paper_id\").count()"
            ]
        },
        {
            "cell_type": "code",
            "execution_count": 35,
            "metadata": {},
            "outputs": [],
            "source": [
                "auth_cnt2 = auth_count.reset_index()"
            ]
        },
        {
            "cell_type": "code",
            "execution_count": 36,
            "metadata": {},
            "outputs": [],
            "source": [
                "ref_count = biblio.loc[:, [\"ref_id\", \"auth_id\"]].drop_duplicates().groupby(\"auth_id\").count()"
            ]
        },
        {
            "cell_type": "code",
            "execution_count": 42,
            "metadata": {},
            "outputs": [
                {
                    "data": {
                        "text/plain": "\u003cAxesSubplot:ylabel='Count'\u003e"
                    },
                    "execution_count": 42,
                    "metadata": {},
                    "output_type": "execute_result"
                },
                {
                    "data": {
                        "image/png": "[encoded data removed]",
                        "text/plain": "\u003cFigure size 432x288 with 1 Axes\u003e"
                    },
                    "metadata": {
                        "needs_background": "light"
                    },
                    "output_type": "display_data"
                }
            ],
            "source": [
                "sns.histplot(ref_count)"
            ]
        },
        {
            "cell_type": "code",
            "execution_count": 38,
            "metadata": {},
            "outputs": [],
            "source": [
                "ref_cnt2 = ref_count.reset_index()"
            ]
        },
        {
            "cell_type": "code",
            "execution_count": 39,
            "metadata": {},
            "outputs": [
                {
                    "data": {
                        "text/html": "\u003cdiv\u003e\n\u003cstyle scoped\u003e\n    .dataframe tbody tr th:only-of-type {\n        vertical-align: middle;\n    }\n\n    .dataframe tbody tr th {\n        vertical-align: top;\n    }\n\n    .dataframe thead th {\n        text-align: right;\n    }\n\u003c/style\u003e\n\u003ctable border=\"1\" class=\"dataframe\"\u003e\n  \u003cthead\u003e\n    \u003ctr style=\"text-align: right;\"\u003e\n      \u003cth\u003e\u003c/th\u003e\n      \u003cth\u003eauth_id\u003c/th\u003e\n      \u003cth\u003eref_id\u003c/th\u003e\n    \u003c/tr\u003e\n  \u003c/thead\u003e\n  \u003ctbody\u003e\n    \u003ctr\u003e\n      \u003cth\u003e0\u003c/th\u003e\n      \u003ctd\u003e20\u003c/td\u003e\n      \u003ctd\u003e40\u003c/td\u003e\n    \u003c/tr\u003e\n    \u003ctr\u003e\n      \u003cth\u003e1\u003c/th\u003e\n      \u003ctd\u003e48\u003c/td\u003e\n      \u003ctd\u003e78\u003c/td\u003e\n    \u003c/tr\u003e\n  \u003c/tbody\u003e\n\u003c/table\u003e\n\u003c/div\u003e",
                        "text/plain": "   auth_id  ref_id\n0       20      40\n1       48      78"
                    },
                    "execution_count": 39,
                    "metadata": {},
                    "output_type": "execute_result"
                }
            ],
            "source": [
                "ref_cnt2.head(2)"
            ]
        },
        {
            "cell_type": "code",
            "execution_count": 40,
            "metadata": {},
            "outputs": [
                {
                    "data": {
                        "text/html": "\u003cdiv\u003e\n\u003cstyle scoped\u003e\n    .dataframe tbody tr th:only-of-type {\n        vertical-align: middle;\n    }\n\n    .dataframe tbody tr th {\n        vertical-align: top;\n    }\n\n    .dataframe thead th {\n        text-align: right;\n    }\n\u003c/style\u003e\n\u003ctable border=\"1\" class=\"dataframe\"\u003e\n  \u003cthead\u003e\n    \u003ctr style=\"text-align: right;\"\u003e\n      \u003cth\u003e\u003c/th\u003e\n      \u003cth\u003eauthor_id\u003c/th\u003e\n    \u003c/tr\u003e\n    \u003ctr\u003e\n      \u003cth\u003epaper_id\u003c/th\u003e\n      \u003cth\u003e\u003c/th\u003e\n    \u003c/tr\u003e\n  \u003c/thead\u003e\n  \u003ctbody\u003e\n    \u003ctr\u003e\n      \u003cth\u003e8998\u003c/th\u003e\n      \u003ctd\u003e1\u003c/td\u003e\n    \u003c/tr\u003e\n    \u003ctr\u003e\n      \u003cth\u003e5280\u003c/th\u003e\n      \u003ctd\u003e1\u003c/td\u003e\n    \u003c/tr\u003e\n    \u003ctr\u003e\n      \u003cth\u003e2712\u003c/th\u003e\n      \u003ctd\u003e1\u003c/td\u003e\n    \u003c/tr\u003e\n    \u003ctr\u003e\n      \u003cth\u003e10685\u003c/th\u003e\n      \u003ctd\u003e1\u003c/td\u003e\n    \u003c/tr\u003e\n    \u003ctr\u003e\n      \u003cth\u003e7073\u003c/th\u003e\n      \u003ctd\u003e1\u003c/td\u003e\n    \u003c/tr\u003e\n    \u003ctr\u003e\n      \u003cth\u003e...\u003c/th\u003e\n      \u003ctd\u003e...\u003c/td\u003e\n    \u003c/tr\u003e\n    \u003ctr\u003e\n      \u003cth\u003e5221\u003c/th\u003e\n      \u003ctd\u003e72\u003c/td\u003e\n    \u003c/tr\u003e\n    \u003ctr\u003e\n      \u003cth\u003e1711\u003c/th\u003e\n      \u003ctd\u003e107\u003c/td\u003e\n    \u003c/tr\u003e\n    \u003ctr\u003e\n      \u003cth\u003e11469\u003c/th\u003e\n      \u003ctd\u003e116\u003c/td\u003e\n    \u003c/tr\u003e\n    \u003ctr\u003e\n      \u003cth\u003e299\u003c/th\u003e\n      \u003ctd\u003e127\u003c/td\u003e\n    \u003c/tr\u003e\n    \u003ctr\u003e\n      \u003cth\u003e917\u003c/th\u003e\n      \u003ctd\u003e238\u003c/td\u003e\n    \u003c/tr\u003e\n  \u003c/tbody\u003e\n\u003c/table\u003e\n\u003cp\u003e3049 rows × 1 columns\u003c/p\u003e\n\u003c/div\u003e",
                        "text/plain": "          author_id\npaper_id           \n8998              1\n5280              1\n2712              1\n10685             1\n7073              1\n...             ...\n5221             72\n1711            107\n11469           116\n299             127\n917             238\n\n[3049 rows x 1 columns]"
                    },
                    "execution_count": 40,
                    "metadata": {},
                    "output_type": "execute_result"
                }
            ],
            "source": [
                "auth_count.sort_values(\"author_id\")"
            ]
        },
        {
            "cell_type": "code",
            "execution_count": 43,
            "metadata": {},
            "outputs": [],
            "source": [
                "auth_count2 = biblio.loc[:, [\"auth_id\", \"ref_id\"]].drop_duplicates().groupby(\"ref_id\").count()"
            ]
        },
        {
            "cell_type": "code",
            "execution_count": 44,
            "metadata": {},
            "outputs": [
                {
                    "data": {
                        "text/plain": "\u003cAxesSubplot:ylabel='Count'\u003e"
                    },
                    "execution_count": 44,
                    "metadata": {},
                    "output_type": "execute_result"
                },
                {
                    "data": {
                        "image/png": "[encoded data removed]",
                        "text/plain": "\u003cFigure size 432x288 with 1 Axes\u003e"
                    },
                    "metadata": {
                        "needs_background": "light"
                    },
                    "output_type": "display_data"
                }
            ],
            "source": [
                "import seaborn as sns\n",
                "\n",
                "sns.histplot(auth_count2)"
            ]
        },
        {
            "cell_type": "code",
            "execution_count": 66,
            "metadata": {},
            "outputs": [
                {
                    "data": {
                        "text/plain": "Index(['auth_id'], dtype='object')"
                    },
                    "execution_count": 66,
                    "metadata": {},
                    "output_type": "execute_result"
                }
            ],
            "source": [
                "auth_count2.columns"
            ]
        },
        {
            "cell_type": "code",
            "execution_count": 67,
            "metadata": {},
            "outputs": [
                {
                    "data": {
                        "text/html": "\u003cdiv\u003e\n\u003cstyle scoped\u003e\n    .dataframe tbody tr th:only-of-type {\n        vertical-align: middle;\n    }\n\n    .dataframe tbody tr th {\n        vertical-align: top;\n    }\n\n    .dataframe thead th {\n        text-align: right;\n    }\n\u003c/style\u003e\n\u003ctable border=\"1\" class=\"dataframe\"\u003e\n  \u003cthead\u003e\n    \u003ctr style=\"text-align: right;\"\u003e\n      \u003cth\u003e\u003c/th\u003e\n      \u003cth\u003eauth_id\u003c/th\u003e\n    \u003c/tr\u003e\n    \u003ctr\u003e\n      \u003cth\u003eref_id\u003c/th\u003e\n      \u003cth\u003e\u003c/th\u003e\n    \u003c/tr\u003e\n  \u003c/thead\u003e\n  \u003ctbody\u003e\n    \u003ctr\u003e\n      \u003cth\u003e299\u003c/th\u003e\n      \u003ctd\u003e26\u003c/td\u003e\n    \u003c/tr\u003e\n    \u003ctr\u003e\n      \u003cth\u003e917\u003c/th\u003e\n      \u003ctd\u003e26\u003c/td\u003e\n    \u003c/tr\u003e\n  \u003c/tbody\u003e\n\u003c/table\u003e\n\u003c/div\u003e",
                        "text/plain": "        auth_id\nref_id         \n299          26\n917          26"
                    },
                    "execution_count": 67,
                    "metadata": {},
                    "output_type": "execute_result"
                }
            ],
            "source": [
                "auth_count2.loc[auth_count2.auth_id \u003e 20,:]"
            ]
        },
        {
            "cell_type": "code",
            "execution_count": 69,
            "metadata": {},
            "outputs": [
                {
                    "data": {
                        "text/plain": "array(['Preprint repository arxiv achieves milestone million uploads',\n       nan], dtype=object)"
                    },
                    "execution_count": 69,
                    "metadata": {},
                    "output_type": "execute_result"
                }
            ],
            "source": [
                "biblio.loc[(biblio.ref_id == 299) | (biblio.ref_id == 917),\"ref_title\"].unique()"
            ]
        },
        {
            "attachments": {},
            "cell_type": "markdown",
            "metadata": {},
            "source": [
                "## Task 3 - Targeted search\n",
                "\n",
                "- Which and how many professors have a paper with the word \"deep learning\" in it? What about \"bayesian\"? What about \"causal\"?"
            ]
        },
        {
            "cell_type": "code",
            "execution_count": 70,
            "metadata": {},
            "outputs": [
                {
                    "data": {
                        "text/plain": "Index(['Unnamed: 0', 'author_id', 'given_name', 'family_name', 'middle_name',\n       'paper_id', 'paper_title'],\n      dtype='object')"
                    },
                    "execution_count": 70,
                    "metadata": {},
                    "output_type": "execute_result"
                }
            ],
            "source": [
                "auth_pap.columns"
            ]
        },
        {
            "cell_type": "code",
            "execution_count": 46,
            "metadata": {},
            "outputs": [],
            "source": [
                "keyword = \"bayesian\"\n",
                "\n",
                "def profs_with_skills(keyword, auth_pap):\n",
                "    has_keyword = auth_pap.paper_title.apply(lambda x: str(x).lower().find(keyword) != -1)\n",
                "    return auth_pap.loc[has_keyword, [\"family_name\", \"given_name\"]]"
            ]
        },
        {
            "cell_type": "code",
            "execution_count": 47,
            "metadata": {},
            "outputs": [
                {
                    "data": {
                        "text/plain": "(84, 2)"
                    },
                    "execution_count": 47,
                    "metadata": {},
                    "output_type": "execute_result"
                }
            ],
            "source": [
                "test = profs_with_skills('deep learning', auth_pap)\n",
                "test.shape"
            ]
        },
        {
            "cell_type": "code",
            "execution_count": 48,
            "metadata": {},
            "outputs": [],
            "source": [
                "test = profs_with_skills('causal inference', auth_pap)"
            ]
        },
        {
            "cell_type": "code",
            "execution_count": 49,
            "metadata": {},
            "outputs": [
                {
                    "data": {
                        "text/plain": "(80, 2)"
                    },
                    "execution_count": 49,
                    "metadata": {},
                    "output_type": "execute_result"
                }
            ],
            "source": [
                "test.shape"
            ]
        },
        {
            "cell_type": "code",
            "execution_count": 50,
            "metadata": {},
            "outputs": [
                {
                    "data": {
                        "text/plain": "(511, 2)"
                    },
                    "execution_count": 50,
                    "metadata": {},
                    "output_type": "execute_result"
                }
            ],
            "source": [
                "test = profs_with_skills('bayesian', auth_pap)\n",
                "test.shape"
            ]
        },
        {
            "attachments": {},
            "cell_type": "markdown",
            "metadata": {},
            "source": [
                "## Task 4 - Joining the datasets\n",
                "\n",
                "- If a paper has more authors, does it likely have more references? How are you testing this out?\n",
                "- Do the same professors reference the same papers over multiple publications?"
            ]
        },
        {
            "cell_type": "code",
            "execution_count": 51,
            "metadata": {},
            "outputs": [],
            "source": [
                "auth_cnt2.rename(columns={\"author_id\": \"auth_count\"}, inplace=True)"
            ]
        },
        {
            "cell_type": "code",
            "execution_count": 52,
            "metadata": {},
            "outputs": [
                {
                    "data": {
                        "text/html": "\u003cdiv\u003e\n\u003cstyle scoped\u003e\n    .dataframe tbody tr th:only-of-type {\n        vertical-align: middle;\n    }\n\n    .dataframe tbody tr th {\n        vertical-align: top;\n    }\n\n    .dataframe thead th {\n        text-align: right;\n    }\n\u003c/style\u003e\n\u003ctable border=\"1\" class=\"dataframe\"\u003e\n  \u003cthead\u003e\n    \u003ctr style=\"text-align: right;\"\u003e\n      \u003cth\u003e\u003c/th\u003e\n      \u003cth\u003epaper_id\u003c/th\u003e\n      \u003cth\u003eauth_count\u003c/th\u003e\n    \u003c/tr\u003e\n  \u003c/thead\u003e\n  \u003ctbody\u003e\n    \u003ctr\u003e\n      \u003cth\u003e0\u003c/th\u003e\n      \u003ctd\u003e4\u003c/td\u003e\n      \u003ctd\u003e2\u003c/td\u003e\n    \u003c/tr\u003e\n    \u003ctr\u003e\n      \u003cth\u003e1\u003c/th\u003e\n      \u003ctd\u003e15\u003c/td\u003e\n      \u003ctd\u003e5\u003c/td\u003e\n    \u003c/tr\u003e\n    \u003ctr\u003e\n      \u003cth\u003e2\u003c/th\u003e\n      \u003ctd\u003e20\u003c/td\u003e\n      \u003ctd\u003e6\u003c/td\u003e\n    \u003c/tr\u003e\n  \u003c/tbody\u003e\n\u003c/table\u003e\n\u003c/div\u003e",
                        "text/plain": "   paper_id  auth_count\n0         4           2\n1        15           5\n2        20           6"
                    },
                    "execution_count": 52,
                    "metadata": {},
                    "output_type": "execute_result"
                }
            ],
            "source": [
                "auth_cnt2.head(3)"
            ]
        },
        {
            "cell_type": "code",
            "execution_count": 53,
            "metadata": {},
            "outputs": [],
            "source": [
                "ref_cnt2.rename(columns={\"ref_id\": \"ref_count\"}, inplace=True)"
            ]
        },
        {
            "cell_type": "code",
            "execution_count": 54,
            "metadata": {},
            "outputs": [
                {
                    "data": {
                        "text/html": "\u003cdiv\u003e\n\u003cstyle scoped\u003e\n    .dataframe tbody tr th:only-of-type {\n        vertical-align: middle;\n    }\n\n    .dataframe tbody tr th {\n        vertical-align: top;\n    }\n\n    .dataframe thead th {\n        text-align: right;\n    }\n\u003c/style\u003e\n\u003ctable border=\"1\" class=\"dataframe\"\u003e\n  \u003cthead\u003e\n    \u003ctr style=\"text-align: right;\"\u003e\n      \u003cth\u003e\u003c/th\u003e\n      \u003cth\u003eauth_id\u003c/th\u003e\n      \u003cth\u003eref_count\u003c/th\u003e\n    \u003c/tr\u003e\n  \u003c/thead\u003e\n  \u003ctbody\u003e\n    \u003ctr\u003e\n      \u003cth\u003e0\u003c/th\u003e\n      \u003ctd\u003e20\u003c/td\u003e\n      \u003ctd\u003e40\u003c/td\u003e\n    \u003c/tr\u003e\n    \u003ctr\u003e\n      \u003cth\u003e1\u003c/th\u003e\n      \u003ctd\u003e48\u003c/td\u003e\n      \u003ctd\u003e78\u003c/td\u003e\n    \u003c/tr\u003e\n    \u003ctr\u003e\n      \u003cth\u003e2\u003c/th\u003e\n      \u003ctd\u003e74\u003c/td\u003e\n      \u003ctd\u003e45\u003c/td\u003e\n    \u003c/tr\u003e\n  \u003c/tbody\u003e\n\u003c/table\u003e\n\u003c/div\u003e",
                        "text/plain": "   auth_id  ref_count\n0       20         40\n1       48         78\n2       74         45"
                    },
                    "execution_count": 54,
                    "metadata": {},
                    "output_type": "execute_result"
                }
            ],
            "source": [
                "ref_cnt2.head(3)"
            ]
        },
        {
            "cell_type": "code",
            "execution_count": 55,
            "metadata": {},
            "outputs": [],
            "source": [
                "# We use an inner join because otherwise we cannot see this\n",
                "jdf = pd.merge(auth_cnt2, ref_cnt2, left_on=\"paper_id\", right_on=\"auth_id\")"
            ]
        },
        {
            "cell_type": "code",
            "execution_count": 56,
            "metadata": {},
            "outputs": [
                {
                    "data": {
                        "text/html": "\u003cdiv\u003e\n\u003cstyle scoped\u003e\n    .dataframe tbody tr th:only-of-type {\n        vertical-align: middle;\n    }\n\n    .dataframe tbody tr th {\n        vertical-align: top;\n    }\n\n    .dataframe thead th {\n        text-align: right;\n    }\n\u003c/style\u003e\n\u003ctable border=\"1\" class=\"dataframe\"\u003e\n  \u003cthead\u003e\n    \u003ctr style=\"text-align: right;\"\u003e\n      \u003cth\u003e\u003c/th\u003e\n      \u003cth\u003epaper_id\u003c/th\u003e\n      \u003cth\u003eauth_count\u003c/th\u003e\n      \u003cth\u003eauth_id\u003c/th\u003e\n      \u003cth\u003eref_count\u003c/th\u003e\n    \u003c/tr\u003e\n  \u003c/thead\u003e\n  \u003ctbody\u003e\n    \u003ctr\u003e\n      \u003cth\u003e0\u003c/th\u003e\n      \u003ctd\u003e20\u003c/td\u003e\n      \u003ctd\u003e6\u003c/td\u003e\n      \u003ctd\u003e20\u003c/td\u003e\n      \u003ctd\u003e40\u003c/td\u003e\n    \u003c/tr\u003e\n    \u003ctr\u003e\n      \u003cth\u003e1\u003c/th\u003e\n      \u003ctd\u003e48\u003c/td\u003e\n      \u003ctd\u003e7\u003c/td\u003e\n      \u003ctd\u003e48\u003c/td\u003e\n      \u003ctd\u003e78\u003c/td\u003e\n    \u003c/tr\u003e\n    \u003ctr\u003e\n      \u003cth\u003e2\u003c/th\u003e\n      \u003ctd\u003e74\u003c/td\u003e\n      \u003ctd\u003e12\u003c/td\u003e\n      \u003ctd\u003e74\u003c/td\u003e\n      \u003ctd\u003e45\u003c/td\u003e\n    \u003c/tr\u003e\n  \u003c/tbody\u003e\n\u003c/table\u003e\n\u003c/div\u003e",
                        "text/plain": "   paper_id  auth_count  auth_id  ref_count\n0        20           6       20         40\n1        48           7       48         78\n2        74          12       74         45"
                    },
                    "execution_count": 56,
                    "metadata": {},
                    "output_type": "execute_result"
                }
            ],
            "source": [
                "jdf.head(3)"
            ]
        },
        {
            "cell_type": "code",
            "execution_count": 57,
            "metadata": {},
            "outputs": [
                {
                    "name": "stderr",
                    "output_type": "stream",
                    "text": "/usr/lib/python3.10/site-packages/seaborn/_decorators.py:36: FutureWarning: Pass the following variables as keyword args: x, y. From version 0.12, the only valid positional argument will be `data`, and passing other arguments without an explicit keyword will result in an error or misinterpretation.\n  warnings.warn(\n"
                },
                {
                    "data": {
                        "text/plain": "\u003cAxesSubplot:xlabel='auth_count', ylabel='ref_count'\u003e"
                    },
                    "execution_count": 57,
                    "metadata": {},
                    "output_type": "execute_result"
                },
                {
                    "data": {
                        "image/png": "[encoded data removed]",
                        "text/plain": "\u003cFigure size 432x288 with 1 Axes\u003e"
                    },
                    "metadata": {
                        "needs_background": "light"
                    },
                    "output_type": "display_data"
                }
            ],
            "source": [
                "import seaborn as sns\n",
                "\n",
                "sns.scatterplot(jdf.auth_count, jdf.ref_count)"
            ]
        },
        {
            "cell_type": "code",
            "execution_count": 60,
            "metadata": {},
            "outputs": [],
            "source": [
                "import numpy as np\n",
                "perm_outputs = []\n",
                "for i in range(2000):\n",
                "    perm_auth_cnt = np.random.choice(jdf.auth_count, jdf.shape[0])\n",
                "    perm_outputs.append(np.corrcoef(jdf.ref_count, perm_auth_cnt)[0, 1])"
            ]
        },
        {
            "cell_type": "code",
            "execution_count": 61,
            "metadata": {},
            "outputs": [
                {
                    "data": {
                        "text/plain": "\u003cmatplotlib.lines.Line2D at 0x7fdced707730\u003e"
                    },
                    "execution_count": 61,
                    "metadata": {},
                    "output_type": "execute_result"
                },
                {
                    "data": {
                        "image/png": "[encoded data removed]",
                        "text/plain": "\u003cFigure size 432x288 with 1 Axes\u003e"
                    },
                    "metadata": {
                        "needs_background": "light"
                    },
                    "output_type": "display_data"
                }
            ],
            "source": [
                "import matplotlib.pyplot as plt\n",
                "sns.histplot(perm_outputs)\n",
                "plt.axvline(x=np.corrcoef(jdf.ref_count, jdf.auth_count)[0, 1],\n",
                "            color='red')\n",
                ""
            ]
        },
        {
            "attachments": {},
            "cell_type": "markdown",
            "metadata": {},
            "source": [
                "### Very unlikely to see our correlation by chance"
            ]
        },
        {
            "cell_type": "code",
            "execution_count": 0,
            "metadata": {},
            "outputs": [],
            "source": [
                ""
            ]
        }
    ]
}
