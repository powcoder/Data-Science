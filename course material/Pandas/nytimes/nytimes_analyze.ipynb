{
    "metadata": {
        "kernelspec": {
            "name": "python3",
            "display_name": "Python 3 (ipykernel)",
            "language": "python"
        }
    },
    "nbformat": 4,
    "nbformat_minor": 2,
    "cells": [
        {
            "attachments": {},
            "cell_type": "markdown",
            "metadata": {},
            "source": [
                "## How often are NYTimes Journalists writing?\n",
                "\n",
                "IMPORTANT:\n",
                "- You should download the notebook and dataset. **Ed will likely crash**.\n",
                "\n",
                "\n",
                "## Task 1\n",
                "\n",
                "How often do journalists write in a given year, given our data?"
            ]
        },
        {
            "cell_type": "code",
            "execution_count": 1,
            "metadata": {},
            "outputs": [],
            "source": [
                "import pandas as pd"
            ]
        },
        {
            "cell_type": "code",
            "execution_count": 2,
            "metadata": {},
            "outputs": [],
            "source": [
                "df = pd.read_csv(\"nytimes_metadata.csv\")"
            ]
        },
        {
            "cell_type": "code",
            "execution_count": 6,
            "metadata": {},
            "outputs": [
                {
                    "data": {
                        "text/html": "\u003cdiv\u003e\n\u003cstyle scoped\u003e\n    .dataframe tbody tr th:only-of-type {\n        vertical-align: middle;\n    }\n\n    .dataframe tbody tr th {\n        vertical-align: top;\n    }\n\n    .dataframe thead th {\n        text-align: right;\n    }\n\u003c/style\u003e\n\u003ctable border=\"1\" class=\"dataframe\"\u003e\n  \u003cthead\u003e\n    \u003ctr style=\"text-align: right;\"\u003e\n      \u003cth\u003e\u003c/th\u003e\n      \u003cth\u003eheadline\u003c/th\u003e\n      \u003cth\u003eword_count\u003c/th\u003e\n      \u003cth\u003eauthor_count\u003c/th\u003e\n      \u003cth\u003elead_author\u003c/th\u003e\n      \u003cth\u003esection\u003c/th\u003e\n      \u003cth\u003epub_date\u003c/th\u003e\n    \u003c/tr\u003e\n  \u003c/thead\u003e\n  \u003ctbody\u003e\n    \u003ctr\u003e\n      \u003cth\u003e6659\u003c/th\u003e\n      \u003ctd\u003e75 Years After World War II Theft, a Painting ...\u003c/td\u003e\n      \u003ctd\u003e682.0\u003c/td\u003e\n      \u003ctd\u003e1\u003c/td\u003e\n      \u003ctd\u003eE l i s a b e t t a P o v o l e d o\u003c/td\u003e\n      \u003ctd\u003eArts\u003c/td\u003e\n      \u003ctd\u003e2019-07-19T17:36:41+0000\u003c/td\u003e\n    \u003c/tr\u003e\n    \u003ctr\u003e\n      \u003cth\u003e48782\u003c/th\u003e\n      \u003ctd\u003eAmerica Is Done Waiting for the Mueller Report\u003c/td\u003e\n      \u003ctd\u003e882.0\u003c/td\u003e\n      \u003ctd\u003e1\u003c/td\u003e\n      \u003ctd\u003eJ e r r o l d L . N a d l e r\u003c/td\u003e\n      \u003ctd\u003eOpinion\u003c/td\u003e\n      \u003ctd\u003e2019-04-01T10:00:05+0000\u003c/td\u003e\n    \u003c/tr\u003e\n    \u003ctr\u003e\n      \u003cth\u003e30432\u003c/th\u003e\n      \u003ctd\u003eYou Make the Call: Leaving Williamsburg for Be...\u003c/td\u003e\n      \u003ctd\u003e0.0\u003c/td\u003e\n      \u003ctd\u003e1\u003c/td\u003e\n      \u003ctd\u003eJ o y c e C o h e n\u003c/td\u003e\n      \u003ctd\u003eReal Estate\u003c/td\u003e\n      \u003ctd\u003e2019-05-30T09:00:04+0000\u003c/td\u003e\n    \u003c/tr\u003e\n    \u003ctr\u003e\n      \u003cth\u003e28974\u003c/th\u003e\n      \u003ctd\u003eExploring the Soul of the South\u003c/td\u003e\n      \u003ctd\u003e971.0\u003c/td\u003e\n      \u003ctd\u003e1\u003c/td\u003e\n      \u003ctd\u003eJ o h n\u003c/td\u003e\n      \u003ctd\u003eBooks\u003c/td\u003e\n      \u003ctd\u003e2019-05-20T09:00:04+0000\u003c/td\u003e\n    \u003c/tr\u003e\n  \u003c/tbody\u003e\n\u003c/table\u003e\n\u003c/div\u003e",
                        "text/plain": "                                                headline  word_count  \\\n6659   75 Years After World War II Theft, a Painting ...       682.0   \n48782     America Is Done Waiting for the Mueller Report       882.0   \n30432  You Make the Call: Leaving Williamsburg for Be...         0.0   \n28974                    Exploring the Soul of the South       971.0   \n\n       author_count                          lead_author      section  \\\n6659              1  E l i s a b e t t a P o v o l e d o         Arts   \n48782             1        J e r r o l d L . N a d l e r      Opinion   \n30432             1                  J o y c e C o h e n  Real Estate   \n28974             1                             J o h n         Books   \n\n                       pub_date  \n6659   2019-07-19T17:36:41+0000  \n48782  2019-04-01T10:00:05+0000  \n30432  2019-05-30T09:00:04+0000  \n28974  2019-05-20T09:00:04+0000  "
                    },
                    "execution_count": 6,
                    "metadata": {},
                    "output_type": "execute_result"
                }
            ],
            "source": [
                "df.sample(4)"
            ]
        },
        {
            "cell_type": "code",
            "execution_count": 8,
            "metadata": {},
            "outputs": [],
            "source": [
                "# Clean up the data a bit\n",
                "df['lead_author'] = df.lead_author.apply(lambda x: str(x).replace(\" \", \"\"))"
            ]
        },
        {
            "cell_type": "code",
            "execution_count": 9,
            "metadata": {},
            "outputs": [
                {
                    "data": {
                        "text/html": "\u003cdiv\u003e\n\u003cstyle scoped\u003e\n    .dataframe tbody tr th:only-of-type {\n        vertical-align: middle;\n    }\n\n    .dataframe tbody tr th {\n        vertical-align: top;\n    }\n\n    .dataframe thead th {\n        text-align: right;\n    }\n\u003c/style\u003e\n\u003ctable border=\"1\" class=\"dataframe\"\u003e\n  \u003cthead\u003e\n    \u003ctr style=\"text-align: right;\"\u003e\n      \u003cth\u003e\u003c/th\u003e\n      \u003cth\u003eheadline\u003c/th\u003e\n      \u003cth\u003eword_count\u003c/th\u003e\n      \u003cth\u003eauthor_count\u003c/th\u003e\n      \u003cth\u003elead_author\u003c/th\u003e\n      \u003cth\u003esection\u003c/th\u003e\n      \u003cth\u003epub_date\u003c/th\u003e\n    \u003c/tr\u003e\n  \u003c/thead\u003e\n  \u003ctbody\u003e\n    \u003ctr\u003e\n      \u003cth\u003e0\u003c/th\u003e\n      \u003ctd\u003eA Leak-Prone White House Finally Manages to Ke...\u003c/td\u003e\n      \u003ctd\u003e1341.0\u003c/td\u003e\n      \u003ctd\u003e1\u003c/td\u003e\n      \u003ctd\u003eMichaelCrowley\u003c/td\u003e\n      \u003ctd\u003eU.S.\u003c/td\u003e\n      \u003ctd\u003e2019-12-01T00:15:08+0000\u003c/td\u003e\n    \u003c/tr\u003e\n    \u003ctr\u003e\n      \u003cth\u003e1\u003c/th\u003e\n      \u003ctd\u003eJustin Fields Has ‘Heisman Moment’ in Ohio Sta...\u003c/td\u003e\n      \u003ctd\u003e727.0\u003c/td\u003e\n      \u003ctd\u003e1\u003c/td\u003e\n      \u003ctd\u003eJeffArnold\u003c/td\u003e\n      \u003ctd\u003eSports\u003c/td\u003e\n      \u003ctd\u003e2019-12-01T00:33:57+0000\u003c/td\u003e\n    \u003c/tr\u003e\n    \u003ctr\u003e\n      \u003cth\u003e2\u003c/th\u003e\n      \u003ctd\u003eMikaela Shiffrin Learns a New Way to Win: With...\u003c/td\u003e\n      \u003ctd\u003e762.0\u003c/td\u003e\n      \u003ctd\u003e1\u003c/td\u003e\n      \u003ctd\u003eBillPennington\u003c/td\u003e\n      \u003ctd\u003eSports\u003c/td\u003e\n      \u003ctd\u003e2019-12-01T00:37:15+0000\u003c/td\u003e\n    \u003c/tr\u003e\n  \u003c/tbody\u003e\n\u003c/table\u003e\n\u003c/div\u003e",
                        "text/plain": "                                            headline  word_count  \\\n0  A Leak-Prone White House Finally Manages to Ke...      1341.0   \n1  Justin Fields Has ‘Heisman Moment’ in Ohio Sta...       727.0   \n2  Mikaela Shiffrin Learns a New Way to Win: With...       762.0   \n\n   author_count     lead_author section                  pub_date  \n0             1  MichaelCrowley    U.S.  2019-12-01T00:15:08+0000  \n1             1      JeffArnold  Sports  2019-12-01T00:33:57+0000  \n2             1  BillPennington  Sports  2019-12-01T00:37:15+0000  "
                    },
                    "execution_count": 9,
                    "metadata": {},
                    "output_type": "execute_result"
                }
            ],
            "source": [
                "df.head(3)"
            ]
        },
        {
            "cell_type": "code",
            "execution_count": 82,
            "metadata": {},
            "outputs": [],
            "source": [
                "gdf = df.groupby(\"lead_author\")"
            ]
        },
        {
            "cell_type": "code",
            "execution_count": 83,
            "metadata": {},
            "outputs": [
                {
                    "name": "stderr",
                    "output_type": "stream",
                    "text": "/usr/lib/python3.10/site-packages/numpy/core/fromnumeric.py:3440: RuntimeWarning: Mean of empty slice.\n  return _methods._mean(a, axis=axis, dtype=dtype,\n/usr/lib/python3.10/site-packages/numpy/core/_methods.py:189: RuntimeWarning: invalid value encountered in double_scalars\n  ret = ret.dtype.type(ret / rcount)\n"
                }
            ],
            "source": [
                "pub_durations = []\n",
                "for auth in gdf.groups:\n",
                "    sdf = gdf.get_group(auth)\n",
                "    #if sdf.shape[0] == 1:\n",
                "    #    continue\n",
                "    sdf = sdf.sort_values(\"pub_date\")\n",
                "    pub_dates = sdf.pub_date.tolist()\n",
                "    times = [dt.datetime.strptime(date, \"%Y-%m-%dT%H:%M:%S%z\") for date in pub_dates]\n",
                "    time_diffs = np.diff(times)\n",
                "    seconds_btw = [td.total_seconds() for td in time_diffs]\n",
                "    pub_durations.append(np.mean(seconds_btw) / 60 / 60 / 24)"
            ]
        },
        {
            "cell_type": "code",
            "execution_count": 84,
            "metadata": {},
            "outputs": [
                {
                    "data": {
                        "text/plain": "\u003cAxesSubplot:ylabel='Count'\u003e"
                    },
                    "execution_count": 84,
                    "metadata": {},
                    "output_type": "execute_result"
                },
                {
                    "data": {
                        "image/png": "[encoded data removed]",
                        "text/plain": "\u003cFigure size 432x288 with 1 Axes\u003e"
                    },
                    "metadata": {
                        "needs_background": "light"
                    },
                    "output_type": "display_data"
                }
            ],
            "source": [
                "import seaborn as sns\n",
                "sns.histplot(pub_durations)"
            ]
        },
        {
            "cell_type": "code",
            "execution_count": 91,
            "metadata": {},
            "outputs": [
                {
                    "data": {
                        "text/plain": "array([10.02941702, 36.14468416, 87.02772859])"
                    },
                    "execution_count": 91,
                    "metadata": {},
                    "output_type": "execute_result"
                }
            ],
            "source": [
                "np.nanpercentile(pub_durations, [25, 50, 75])"
            ]
        },
        {
            "attachments": {},
            "cell_type": "markdown",
            "metadata": {},
            "source": [
                "### It seems to take just over a month to publish an article"
            ]
        },
        {
            "cell_type": "code",
            "execution_count": 0,
            "metadata": {},
            "outputs": [],
            "source": [
                ""
            ]
        }
    ]
}
