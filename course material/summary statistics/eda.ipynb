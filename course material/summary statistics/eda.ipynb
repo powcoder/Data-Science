{
    "metadata": {
        "kernelspec": {
            "name": "python3",
            "display_name": "Python 3 (ipykernel)",
            "language": "python"
        }
    },
    "nbformat": 4,
    "nbformat_minor": 2,
    "cells": [
        {
            "attachments": {},
            "cell_type": "markdown",
            "metadata": {},
            "source": [
                "## Always explore your data\n",
                "\n",
                "We have 3 files that simulated a potential AB test that is measuring clicks and views.\n",
                "- `sim_ab_test_assignment.csv`\n",
                "- `sim_ab_test_clicks.csv`\n",
                "- `sim_ab_test_views.csv`"
            ]
        },
        {
            "attachments": {},
            "cell_type": "markdown",
            "metadata": {},
            "source": [
                "### Task 1\n",
                "\n",
                "Load the files into sensible variable names using `numpy`."
            ]
        },
        {
            "cell_type": "code",
            "execution_count": 124,
            "metadata": {},
            "outputs": [],
            "source": [
                "import numpy as np"
            ]
        },
        {
            "cell_type": "code",
            "execution_count": 125,
            "metadata": {},
            "outputs": [],
            "source": [
                "clicks = np.loadtxt(\"./sim_ab_test_clicks.csv\",delimiter=\",\")\n",
                "views = np.loadtxt(\"./sim_ab_test_views.csv\",delimiter=\",\")\n",
                "groups = np.loadtxt(\"./sim_ab_test_assignment.csv\",delimiter=\",\", dtype=str)"
            ]
        },
        {
            "cell_type": "code",
            "execution_count": 126,
            "metadata": {},
            "outputs": [],
            "source": [
                ""
            ]
        },
        {
            "attachments": {},
            "cell_type": "markdown",
            "metadata": {},
            "source": [
                "### Task 2\n",
                "\n",
                "Examine the data a bit\n",
                "- What are the dimensions for each of the CSVs?\n",
                "  - This should bring up some questions, what are our guesses?\n",
                "- Can we look at some sample values in the data?\n",
                "  - Try looking at the first few rows and columns\n",
                "  - Try looking at the last few rows and columns"
            ]
        },
        {
            "cell_type": "code",
            "execution_count": 127,
            "metadata": {},
            "outputs": [
                {
                    "name": "stdout",
                    "output_type": "stream",
                    "text": "(1000, 14)\n(1000, 14)\n(1000,)\n"
                }
            ],
            "source": [
                "print(clicks.shape)\n",
                "print(views.shape)\n",
                "print(groups.shape)"
            ]
        },
        {
            "cell_type": "code",
            "execution_count": 128,
            "metadata": {},
            "outputs": [
                {
                    "data": {
                        "text/plain": "array([[0., 1., 0., 0., 0.],\n       [0., 0., 0., 0., 0.],\n       [0., 0., 0., 0., 1.]])"
                    },
                    "execution_count": 128,
                    "metadata": {},
                    "output_type": "execute_result"
                }
            ],
            "source": [
                "clicks[:3,:5]"
            ]
        },
        {
            "attachments": {},
            "cell_type": "markdown",
            "metadata": {},
            "source": [
                "### Task 3\n",
                "\n",
                "It's important to track a few summary statistics about data, statistics that will let us know if the data is bad.\n",
                "- Calculate some of these statistics\n",
                "- Use `print()` to print out a human readable message that includes these statistics."
            ]
        },
        {
            "cell_type": "code",
            "execution_count": 129,
            "metadata": {},
            "outputs": [
                {
                    "data": {
                        "text/plain": "266.2142857142857"
                    },
                    "execution_count": 129,
                    "metadata": {},
                    "output_type": "execute_result"
                }
            ],
            "source": [
                "clicks.sum() / clicks.shape[1]"
            ]
        },
        {
            "cell_type": "code",
            "execution_count": 130,
            "metadata": {},
            "outputs": [
                {
                    "name": "stdout",
                    "output_type": "stream",
                    "text": "(1000, 14)\n[[False False False False]\n [False False False False]\n [False False False False]\n [False False False False]]\n"
                }
            ],
            "source": [
                "is_neg_clicks = clicks \u003c 0\n",
                "print(is_neg_clicks.shape)\n",
                "print(is_neg_clicks[:4,:4])"
            ]
        },
        {
            "cell_type": "code",
            "execution_count": 131,
            "metadata": {},
            "outputs": [
                {
                    "data": {
                        "text/plain": "nan"
                    },
                    "execution_count": 131,
                    "metadata": {},
                    "output_type": "execute_result"
                }
            ],
            "source": [
                "np.array([np.nan,1,2,0]).sum()"
            ]
        },
        {
            "attachments": {},
            "cell_type": "markdown",
            "metadata": {},
            "source": [
                "### Task 4\n",
                "\n",
                "What kind of mathematical notation would you use to describe our data? \n",
                "Now use that notation to express (no code)\n",
                "- total clicks over all users / total views over all users\n",
                "- Average click through rate\n",
                "- Now write the code to do these calculations (don't use a for-loop!)"
            ]
        },
        {
            "attachments": {},
            "cell_type": "markdown",
            "metadata": {},
            "source": [
                "1. total over total"
            ]
        },
        {
            "cell_type": "code",
            "execution_count": 132,
            "metadata": {},
            "outputs": [
                {
                    "data": {
                        "text/plain": "0.05291929346282728"
                    },
                    "execution_count": 132,
                    "metadata": {},
                    "output_type": "execute_result"
                }
            ],
            "source": [
                "clicks.sum() / views.sum()"
            ]
        },
        {
            "attachments": {},
            "cell_type": "markdown",
            "metadata": {},
            "source": [
                "2. Average CTR"
            ]
        },
        {
            "cell_type": "code",
            "execution_count": 133,
            "metadata": {},
            "outputs": [],
            "source": [
                "def get_avg_ctr(clicks, views):\n",
                "    user_clicks = np.apply_along_axis(sum,1, )\n",
                "    user_views = np.apply_along_axis(sum,1,clicks)\n",
                "    ctrs = user_clicks / user_views\n",
                "    return np.sum(ctrs) / len(ctrs)"
            ]
        },
        {
            "cell_type": "code",
            "execution_count": 134,
            "metadata": {},
            "outputs": [],
            "source": [
                "user_views = np.apply_along_axis(sum,1,clicks)"
            ]
        },
        {
            "attachments": {},
            "cell_type": "markdown",
            "metadata": {},
            "source": [
                "### Task 5\n",
                "\n",
                "Let's compare the 2 metrics:\n",
                "- Remove one of the most active members from the data and re-calculate both metrics. \n",
                "- How would you compare the metric before/after the removal? Calculate something and `print()` it out.\n",
                "- Which metric would you recommend?"
            ]
        },
        {
            "cell_type": "code",
            "execution_count": 135,
            "metadata": {},
            "outputs": [
                {
                    "data": {
                        "text/plain": "1"
                    },
                    "execution_count": 135,
                    "metadata": {},
                    "output_type": "execute_result"
                }
            ],
            "source": [
                "is_most_active = user_views == np.max(user_views)\n",
                "is_most_active.sum()"
            ]
        },
        {
            "cell_type": "code",
            "execution_count": 136,
            "metadata": {},
            "outputs": [],
            "source": [
                "not_most_active = np.logical_not(is_most_active)"
            ]
        },
        {
            "cell_type": "code",
            "execution_count": 137,
            "metadata": {},
            "outputs": [
                {
                    "data": {
                        "text/plain": "(999, 14)"
                    },
                    "execution_count": 137,
                    "metadata": {},
                    "output_type": "execute_result"
                }
            ],
            "source": [
                "chill_views = views[not_most_active, :]\n",
                "chill_views.shape\n",
                "chill_clicks = clicks[not_most_active, :]\n",
                "chill_views.shape"
            ]
        },
        {
            "attachments": {},
            "cell_type": "markdown",
            "metadata": {},
            "source": [
                "### Task 6\n",
                "\n",
                "Calculate the recommended metric for each of the treatment groups."
            ]
        },
        {
            "cell_type": "code",
            "execution_count": 138,
            "metadata": {},
            "outputs": [],
            "source": [
                "is_treat = groups == \"True\""
            ]
        },
        {
            "cell_type": "code",
            "execution_count": 139,
            "metadata": {},
            "outputs": [],
            "source": [
                "clicks_treat = clicks[is_treat, :]\n",
                "views_treat = views[is_treat, :]\n",
                "\n",
                "clicks_control = clicks[np.logical_not(is_treat), :]\n",
                "views_control = views[np.logical_not(is_treat), :]"
            ]
        },
        {
            "cell_type": "code",
            "execution_count": 140,
            "metadata": {},
            "outputs": [
                {
                    "data": {
                        "text/plain": "0.10317675807765408"
                    },
                    "execution_count": 140,
                    "metadata": {},
                    "output_type": "execute_result"
                }
            ],
            "source": [
                "clicks_treat.sum() / views_treat.sum()"
            ]
        },
        {
            "cell_type": "code",
            "execution_count": 141,
            "metadata": {},
            "outputs": [
                {
                    "data": {
                        "text/plain": "0.05014607835792943"
                    },
                    "execution_count": 141,
                    "metadata": {},
                    "output_type": "execute_result"
                }
            ],
            "source": [
                "clicks_control.sum() / views_control.sum()"
            ]
        }
    ]
}
