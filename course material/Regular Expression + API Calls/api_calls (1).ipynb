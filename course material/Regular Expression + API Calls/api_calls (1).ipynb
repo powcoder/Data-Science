{
    "metadata": {
        "kernelspec": {
            "name": "python3",
            "display_name": "Python 3 (ipykernel)",
            "language": "python"
        }
    },
    "nbformat": 4,
    "nbformat_minor": 2,
    "cells": [
        {
            "attachments": {},
            "cell_type": "markdown",
            "metadata": {},
            "source": [
                "## Dependence on Russian and Ukrainian Imports\n",
                "\n",
                "As the world is changing this week, we can try to understand how important Russian and Ukrainian imports are to the US.\n",
                "\n",
                "[Census.Gov](https://www.census.gov/data/developers/data-sets/international-trade.html) has international trade data exposed for us to download.\n",
                "\n",
                "Please pay particular attention to the example calls under **Monthly International Trade Time Series - Imports**."
            ]
        },
        {
            "attachments": {},
            "cell_type": "markdown",
            "metadata": {},
            "source": [
                "## Task 1 - Understanding the API behavior\n",
                "\n",
                "- Please repeat both example API calls on the website using `request.get()` and make sure you get sensisble results. Hint: what is the length of the `params` we will pass to the API?"
            ]
        },
        {
            "cell_type": "code",
            "execution_count": 0,
            "metadata": {},
            "outputs": [],
            "source": [
                ""
            ]
        },
        {
            "cell_type": "code",
            "execution_count": 9,
            "metadata": {},
            "outputs": [],
            "source": [
                "import requests"
            ]
        },
        {
            "cell_type": "code",
            "execution_count": 2,
            "metadata": {},
            "outputs": [],
            "source": [
                "base_url = \"http://api.census.gov/data/timeseries/intltrade/imports/enduse?\"\n",
                "params = {\"get\": \"CTY_CODE,CTY_NAME,I_ENDUSE,I_ENDUSE_LDESC,GEN_VAL_MO,CON_VAL_MO\",\n",
                "          \"time\": \"2013-01\"}\n",
                "resp = requests.get(base_url, params=params)"
            ]
        },
        {
            "cell_type": "code",
            "execution_count": 3,
            "metadata": {},
            "outputs": [
                {
                    "data": {
                        "text/plain": "200"
                    },
                    "execution_count": 3,
                    "metadata": {},
                    "output_type": "execute_result"
                }
            ],
            "source": [
                "resp.status_code"
            ]
        },
        {
            "cell_type": "code",
            "execution_count": 4,
            "metadata": {},
            "outputs": [],
            "source": [
                "dat = resp.json()"
            ]
        },
        {
            "cell_type": "code",
            "execution_count": 5,
            "metadata": {},
            "outputs": [
                {
                    "data": {
                        "text/plain": "list"
                    },
                    "execution_count": 5,
                    "metadata": {},
                    "output_type": "execute_result"
                }
            ],
            "source": [
                "type(dat)"
            ]
        },
        {
            "cell_type": "code",
            "execution_count": 6,
            "metadata": {},
            "outputs": [
                {
                    "data": {
                        "text/plain": "13044"
                    },
                    "execution_count": 6,
                    "metadata": {},
                    "output_type": "execute_result"
                }
            ],
            "source": [
                "len(dat)"
            ]
        },
        {
            "cell_type": "code",
            "execution_count": 7,
            "metadata": {},
            "outputs": [
                {
                    "data": {
                        "text/plain": "7"
                    },
                    "execution_count": 7,
                    "metadata": {},
                    "output_type": "execute_result"
                }
            ],
            "source": [
                "len(dat[10])"
            ]
        },
        {
            "cell_type": "code",
            "execution_count": 8,
            "metadata": {},
            "outputs": [
                {
                    "data": {
                        "text/plain": "[['CTY_CODE',\n  'CTY_NAME',\n  'I_ENDUSE',\n  'I_ENDUSE_LDESC',\n  'GEN_VAL_MO',\n  'CON_VAL_MO',\n  'time'],\n ['4050',\n  'FINLAND',\n  '-',\n  'TOTAL IMPORTS FOR ALL END-USE CODES',\n  '319554327',\n  '335786013',\n  '2013-01'],\n ['4635',\n  'KYRGYZSTAN',\n  '-',\n  'TOTAL IMPORTS FOR ALL END-USE CODES',\n  '17592',\n  '17592',\n  '2013-01']]"
                    },
                    "execution_count": 8,
                    "metadata": {},
                    "output_type": "execute_result"
                }
            ],
            "source": [
                "dat[:3]"
            ]
        },
        {
            "cell_type": "code",
            "execution_count": 8,
            "metadata": {},
            "outputs": [
                {
                    "ename": "NameError",
                    "evalue": "name 'dat' is not defined",
                    "output_type": "error",
                    "traceback": [
                        "\u001b[0;31m---------------------------------------------------------------------------\u001b[0m",
                        "\u001b[0;31mNameError\u001b[0m                                 Traceback (most recent call last)",
                        "Input \u001b[0;32mIn [1]\u001b[0m, in \u001b[0;36m\u003cmodule\u003e\u001b[0;34m\u001b[0m\n\u001b[1;32m      1\u001b[0m \u001b[38;5;28;01mimport\u001b[39;00m \u001b[38;5;21;01mpandas\u001b[39;00m \u001b[38;5;28;01mas\u001b[39;00m \u001b[38;5;21;01mpd\u001b[39;00m\n\u001b[0;32m----\u003e 3\u001b[0m df \u001b[38;5;241m=\u001b[39m pd\u001b[38;5;241m.\u001b[39mDataFrame(\u001b[43mdat\u001b[49m[\u001b[38;5;241m1\u001b[39m:], columns\u001b[38;5;241m=\u001b[39mdat[\u001b[38;5;241m0\u001b[39m])\n",
                        "\u001b[0;31mNameError\u001b[0m: name 'dat' is not defined"
                    ]
                }
            ],
            "source": [
                "import pandas as pd\n",
                "\n",
                "df = pd.DataFrame(dat[1:], columns=dat[0])"
            ]
        },
        {
            "cell_type": "code",
            "execution_count": 10,
            "metadata": {},
            "outputs": [
                {
                    "data": {
                        "text/plain": "(13043, 7)"
                    },
                    "execution_count": 10,
                    "metadata": {},
                    "output_type": "execute_result"
                }
            ],
            "source": [
                "df.shape"
            ]
        },
        {
            "cell_type": "code",
            "execution_count": 32,
            "metadata": {},
            "outputs": [
                {
                    "data": {
                        "text/html": "\u003cdiv\u003e\n\u003cstyle scoped\u003e\n    .dataframe tbody tr th:only-of-type {\n        vertical-align: middle;\n    }\n\n    .dataframe tbody tr th {\n        vertical-align: top;\n    }\n\n    .dataframe thead th {\n        text-align: right;\n    }\n\u003c/style\u003e\n\u003ctable border=\"1\" class=\"dataframe\"\u003e\n  \u003cthead\u003e\n    \u003ctr style=\"text-align: right;\"\u003e\n      \u003cth\u003e\u003c/th\u003e\n      \u003cth\u003eCTY_CODE\u003c/th\u003e\n      \u003cth\u003eCTY_NAME\u003c/th\u003e\n      \u003cth\u003eI_ENDUSE\u003c/th\u003e\n      \u003cth\u003eI_ENDUSE_LDESC\u003c/th\u003e\n      \u003cth\u003eGEN_VAL_MO\u003c/th\u003e\n      \u003cth\u003eCON_VAL_MO\u003c/th\u003e\n      \u003cth\u003etime\u003c/th\u003e\n    \u003c/tr\u003e\n  \u003c/thead\u003e\n  \u003ctbody\u003e\n    \u003ctr\u003e\n      \u003cth\u003e0\u003c/th\u003e\n      \u003ctd\u003e4050\u003c/td\u003e\n      \u003ctd\u003eFINLAND\u003c/td\u003e\n      \u003ctd\u003e-\u003c/td\u003e\n      \u003ctd\u003eTOTAL IMPORTS FOR ALL END-USE CODES\u003c/td\u003e\n      \u003ctd\u003e319554327\u003c/td\u003e\n      \u003ctd\u003e335786013\u003c/td\u003e\n      \u003ctd\u003e2013-01\u003c/td\u003e\n    \u003c/tr\u003e\n    \u003ctr\u003e\n      \u003cth\u003e1\u003c/th\u003e\n      \u003ctd\u003e4635\u003c/td\u003e\n      \u003ctd\u003eKYRGYZSTAN\u003c/td\u003e\n      \u003ctd\u003e-\u003c/td\u003e\n      \u003ctd\u003eTOTAL IMPORTS FOR ALL END-USE CODES\u003c/td\u003e\n      \u003ctd\u003e17592\u003c/td\u003e\n      \u003ctd\u003e17592\u003c/td\u003e\n      \u003ctd\u003e2013-01\u003c/td\u003e\n    \u003c/tr\u003e\n  \u003c/tbody\u003e\n\u003c/table\u003e\n\u003c/div\u003e",
                        "text/plain": "  CTY_CODE    CTY_NAME I_ENDUSE                       I_ENDUSE_LDESC  \\\n0     4050     FINLAND        -  TOTAL IMPORTS FOR ALL END-USE CODES   \n1     4635  KYRGYZSTAN        -  TOTAL IMPORTS FOR ALL END-USE CODES   \n\n  GEN_VAL_MO CON_VAL_MO     time  \n0  319554327  335786013  2013-01  \n1      17592      17592  2013-01  "
                    },
                    "execution_count": 32,
                    "metadata": {},
                    "output_type": "execute_result"
                }
            ],
            "source": [
                "df.head(2)"
            ]
        },
        {
            "attachments": {},
            "cell_type": "markdown",
            "metadata": {},
            "source": [
                "## Task 2 - Get more data\n",
                "\n",
                "- Please get the general imports value for all end-use codes for 2013-2020 for the months 01-12. Hint: you should be able to modify the example calls.\n",
                "- Please combine all of the data into one data frame"
            ]
        },
        {
            "cell_type": "code",
            "execution_count": 10,
            "metadata": {},
            "outputs": [],
            "source": [
                "# Shrinking the years so Ed doesn't crash\n",
                "years = list(range(2018, 2021))\n",
                "months = range(1, 13)"
            ]
        },
        {
            "cell_type": "code",
            "execution_count": 12,
            "metadata": {},
            "outputs": [
                {
                    "name": "stdout",
                    "output_type": "stream",
                    "text": "2018\n2019\n2020\n"
                }
            ],
            "source": [
                "dfs = []\n",
                "for year in years:\n",
                "    print(year)\n",
                "    for month in months:\n",
                "        # year = \"2020\"\n",
                "        # month = \"01\"\n",
                "        month = month if month \u003e= 10 else \"0\" + str(month)\n",
                "        base_url = \"http://api.census.gov/data/timeseries/intltrade/imports/enduse?\"\n",
                "        params = {\"get\": \"CTY_CODE,CTY_NAME,I_ENDUSE,I_ENDUSE_LDESC,GEN_VAL_MO,CON_VAL_MO\",\n",
                "                  \"time\": \"{YEAR}-{MONTH}\".format(YEAR=year, MONTH=month)}\n",
                "        resp = requests.get(base_url, params=params)\n",
                "        dat = resp.json()\n",
                "        df = pd.DataFrame(dat[1:], columns=dat[0])\n",
                "        dfs.append(df)"
            ]
        },
        {
            "cell_type": "code",
            "execution_count": 13,
            "metadata": {},
            "outputs": [],
            "source": [
                "bdf = pd.concat(dfs)"
            ]
        },
        {
            "cell_type": "code",
            "execution_count": 14,
            "metadata": {},
            "outputs": [
                {
                    "data": {
                        "text/html": "\u003cdiv\u003e\n\u003cstyle scoped\u003e\n    .dataframe tbody tr th:only-of-type {\n        vertical-align: middle;\n    }\n\n    .dataframe tbody tr th {\n        vertical-align: top;\n    }\n\n    .dataframe thead th {\n        text-align: right;\n    }\n\u003c/style\u003e\n\u003ctable border=\"1\" class=\"dataframe\"\u003e\n  \u003cthead\u003e\n    \u003ctr style=\"text-align: right;\"\u003e\n      \u003cth\u003e\u003c/th\u003e\n      \u003cth\u003eCTY_CODE\u003c/th\u003e\n      \u003cth\u003eCTY_NAME\u003c/th\u003e\n      \u003cth\u003eI_ENDUSE\u003c/th\u003e\n      \u003cth\u003eI_ENDUSE_LDESC\u003c/th\u003e\n      \u003cth\u003eGEN_VAL_MO\u003c/th\u003e\n      \u003cth\u003eCON_VAL_MO\u003c/th\u003e\n      \u003cth\u003etime\u003c/th\u003e\n    \u003c/tr\u003e\n  \u003c/thead\u003e\n  \u003ctbody\u003e\n    \u003ctr\u003e\n      \u003cth\u003e19097\u003c/th\u003e\n      \u003ctd\u003e3070\u003c/td\u003e\n      \u003ctd\u003eVENEZUELA\u003c/td\u003e\n      \u003ctd\u003e50040\u003c/td\u003e\n      \u003ctd\u003eOTHER (MOVIES, MISCELLANEOUS IMPORTS, AND SPEC...\u003c/td\u003e\n      \u003ctd\u003e0\u003c/td\u003e\n      \u003ctd\u003e0\u003c/td\u003e\n      \u003ctd\u003e2020-12\u003c/td\u003e\n    \u003c/tr\u003e\n    \u003ctr\u003e\n      \u003cth\u003e19098\u003c/th\u003e\n      \u003ctd\u003e3120\u003c/td\u003e\n      \u003ctd\u003eGUYANA\u003c/td\u003e\n      \u003ctd\u003e50040\u003c/td\u003e\n      \u003ctd\u003eOTHER (MOVIES, MISCELLANEOUS IMPORTS, AND SPEC...\u003c/td\u003e\n      \u003ctd\u003e78669\u003c/td\u003e\n      \u003ctd\u003e78669\u003c/td\u003e\n      \u003ctd\u003e2020-12\u003c/td\u003e\n    \u003c/tr\u003e\n    \u003ctr\u003e\n      \u003cth\u003e19099\u003c/th\u003e\n      \u003ctd\u003e3150\u003c/td\u003e\n      \u003ctd\u003eSURINAME\u003c/td\u003e\n      \u003ctd\u003e50040\u003c/td\u003e\n      \u003ctd\u003eOTHER (MOVIES, MISCELLANEOUS IMPORTS, AND SPEC...\u003c/td\u003e\n      \u003ctd\u003e75674\u003c/td\u003e\n      \u003ctd\u003e75674\u003c/td\u003e\n      \u003ctd\u003e2020-12\u003c/td\u003e\n    \u003c/tr\u003e\n  \u003c/tbody\u003e\n\u003c/table\u003e\n\u003c/div\u003e",
                        "text/plain": "      CTY_CODE   CTY_NAME I_ENDUSE  \\\n19097     3070  VENEZUELA    50040   \n19098     3120     GUYANA    50040   \n19099     3150   SURINAME    50040   \n\n                                          I_ENDUSE_LDESC GEN_VAL_MO  \\\n19097  OTHER (MOVIES, MISCELLANEOUS IMPORTS, AND SPEC...          0   \n19098  OTHER (MOVIES, MISCELLANEOUS IMPORTS, AND SPEC...      78669   \n19099  OTHER (MOVIES, MISCELLANEOUS IMPORTS, AND SPEC...      75674   \n\n      CON_VAL_MO     time  \n19097          0  2020-12  \n19098      78669  2020-12  \n19099      75674  2020-12  "
                    },
                    "execution_count": 14,
                    "metadata": {},
                    "output_type": "execute_result"
                }
            ],
            "source": [
                "bdf.tail(3)"
            ]
        },
        {
            "attachments": {},
            "cell_type": "markdown",
            "metadata": {},
            "source": [
                "## Task 3 - Analyze the Dependence\n",
                "\n",
                "Please quantify a major dependence we have on Russia or Ukrain using the data we've collected."
            ]
        },
        {
            "cell_type": "code",
            "execution_count": 17,
            "metadata": {},
            "outputs": [],
            "source": [
                "sdf = bdf_grp.get_group(grp)\n",
                "from_russian = sdf.CTY_NAME == \"RUSSIA\"\n",
                ""
            ]
        },
        {
            "cell_type": "code",
            "execution_count": 20,
            "metadata": {},
            "outputs": [
                {
                    "data": {
                        "text/plain": "(4024, 7)"
                    },
                    "execution_count": 20,
                    "metadata": {},
                    "output_type": "execute_result"
                }
            ],
            "source": [
                "sdf.shape"
            ]
        },
        {
            "cell_type": "code",
            "execution_count": 34,
            "metadata": {},
            "outputs": [],
            "source": [
                "russia_val = sdf.loc[from_russian, \"GEN_VAL_MO\"]"
            ]
        },
        {
            "cell_type": "code",
            "execution_count": 36,
            "metadata": {},
            "outputs": [
                {
                    "data": {
                        "text/plain": "7180941.0"
                    },
                    "execution_count": 36,
                    "metadata": {},
                    "output_type": "execute_result"
                }
            ],
            "source": [
                "russia_val.astype(float).sum()"
            ]
        },
        {
            "cell_type": "code",
            "execution_count": 37,
            "metadata": {},
            "outputs": [],
            "source": [
                "bdf_grp = bdf.groupby(\"I_ENDUSE_LDESC\")\n",
                "\n",
                "prop_russia = {}\n",
                "for grp in bdf_grp.groups:\n",
                "    sdf = bdf_grp.get_group(grp)\n",
                "    from_russian = sdf.CTY_NAME == \"RUSSIA\"\n",
                "    russia_val = sdf.loc[from_russian, \"GEN_VAL_MO\"].astype(float).sum()\n",
                "    prop_russia.update({grp: russia_val / sdf.GEN_VAL_MO.astype(float).sum()})"
            ]
        },
        {
            "cell_type": "code",
            "execution_count": 43,
            "metadata": {},
            "outputs": [
                {
                    "data": {
                        "text/plain": "[('NONFERROUS METALS, OTHER', 0.008325050758562219),\n ('OTHER MILITARY EQUIPMENT', 0.008895039279254493),\n ('PLYWOOD AND VENEERS', 0.00986277801523884),\n ('NICKEL', 0.01232060479631816),\n ('CHEMICALS-FERTILIZERS', 0.014133116188763358),\n ('OTHER PRECIOUS METALS', 0.021334977908361304),\n ('STEELMAKING MATERIALS', 0.027548659235540184),\n ('NUCLEAR FUEL MATERIALS', 0.038887036518478385),\n ('FUEL OIL', 0.05804145846671529),\n ('SPACECRAFT, EXCLUDING MILITARY', 0.1342180905408842)]"
                    },
                    "execution_count": 43,
                    "metadata": {},
                    "output_type": "execute_result"
                }
            ],
            "source": [
                "sorted([(k, v) for k, v in prop_russia.items()], key=lambda x: x[1])[-10:]"
            ]
        },
        {
            "cell_type": "code",
            "execution_count": 44,
            "metadata": {},
            "outputs": [],
            "source": [
                ""
            ]
        },
        {
            "cell_type": "code",
            "execution_count": 0,
            "metadata": {},
            "outputs": [],
            "source": [
                ""
            ]
        }
    ]
}
