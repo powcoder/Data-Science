{
    "metadata": {
        "kernelspec": {
            "name": "python3",
            "display_name": "Python 3 (ipykernel)",
            "language": "python"
        }
    },
    "nbformat": 4,
    "nbformat_minor": 2,
    "cells": [
        {
            "attachments": {},
            "cell_type": "markdown",
            "metadata": {},
            "source": [
                "## Ukraine on Twitter\n",
                "\n",
                "A Washington Post article is titled [\"Social media fuels new type of ‘fog of war’ in Ukraine conflict\"](https://www.washingtonpost.com/technology/2022/02/24/ukraine-russia-war-twitter-social-media/) with the subtitle - \"Twitter, Telegram and Twitch make following war faster and easier than ever, but also are vulnerable to rapid-fire disinformation\".\n",
                "\n",
                "We look at recent tweets on Twitter using the query: \n",
                "- `'ukrain (fake OR misinform)'` i.e. looking for tweets that mention \"ukrain\" AND (\"fake\" OR \"misinform\")\n",
                "- `'ukrain -(fake OR misinform)'` i.e. looking for tweets that mention \"ukrain\" AND NOT (\"fake\" OR \"misinform\") "
            ]
        },
        {
            "attachments": {},
            "cell_type": "markdown",
            "metadata": {},
            "source": [
                "## Task 1 - Think\n",
                "\n",
                "- Given accounts spreading fake Tweets won't list themselves as being fake, why would searching for the string \"fake\" be useful?\n",
                "- What time range do we cover in `urkaine.json`?"
            ]
        },
        {
            "cell_type": "code",
            "execution_count": 0,
            "metadata": {},
            "outputs": [],
            "source": [
                ""
            ]
        },
        {
            "cell_type": "code",
            "execution_count": 0,
            "metadata": {},
            "outputs": [],
            "source": [
                ""
            ]
        },
        {
            "attachments": {},
            "cell_type": "markdown",
            "metadata": {},
            "source": [
                "## Task 2 - Label the tweets\n",
                "\n",
                "- Please label the tweets in the data, according to the text of the Tweet, into which query do you believe was used to collect that particular tweet.\n",
                "- Please identify the hashtags associated with both groups of tweets.\n",
                "- Please compare the hashtags"
            ]
        },
        {
            "cell_type": "code",
            "execution_count": 0,
            "metadata": {},
            "outputs": [],
            "source": [
                ""
            ]
        },
        {
            "cell_type": "code",
            "execution_count": 0,
            "metadata": {},
            "outputs": [],
            "source": [
                ""
            ]
        }
    ]
}
