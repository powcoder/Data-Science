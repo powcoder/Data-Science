{
    "metadata": {
        "kernelspec": {
            "name": "python3",
            "display_name": "Python 3 (ipykernel)",
            "language": "python"
        }
    },
    "nbformat": 4,
    "nbformat_minor": 2,
    "cells": [
        {
            "attachments": {},
            "cell_type": "markdown",
            "metadata": {},
            "source": [
                "# Problem\n",
                "\n",
                "CTR = $\\frac{Total\\ Clicks}{Total\\ Views}$\n",
                "\n",
                "- Ratio of averages so usual Central Limit theorem does not apply!\n",
                "- We've detected a 5% difference between group A and group B using the data\n",
                "  - `sim_ab_test_assignment.csv`\n",
                "  - `sim_ab_test_clicks.csv`\n",
                "  - `sim_ab_test_views.csv`\n",
                "- We want to test the signifiance of this difference we observe!"
            ]
        },
        {
            "attachments": {},
            "cell_type": "markdown",
            "metadata": {},
            "source": [
                "## Task 1\n",
                "\n",
                "We talked about using the permutation test, i.e. randomize the AB assignment and re-calculate the CTR difference.\n",
                "\n",
                "Please write down the pseudo-code for what we want to achieve. "
            ]
        },
        {
            "attachments": {},
            "cell_type": "markdown",
            "metadata": {},
            "source": [
                "### Small pseudo-code example\n",
                "\n",
                "Pseudo-code is like draft code. The pseudo-code to demonstrate the Central Limit Theorem would look like:\n",
                "\n",
                "- Simulate and store B=1000 times the following\n",
                "  - generate n=50 random numbers\n",
                "  - calculate average from n=50 numbers\n",
                "- Check the distribution of the B averages"
            ]
        },
        {
            "attachments": {},
            "cell_type": "markdown",
            "metadata": {},
            "source": [
                "- Calculate observed CTR (clicks, views, assign)\n",
                "- Repeat the following (B = 1000)\n",
                "  - get permute assignment of users, perm_assign(assign)\n",
                "  - Calculate CTR (clicks, views, perm_assign)\n",
                "  - get difference of CTR(CTR_A, CTR_B)\n",
                "- Check differences vs observed CTR"
            ]
        },
        {
            "cell_type": "code",
            "execution_count": 0,
            "metadata": {},
            "outputs": [],
            "source": [
                ""
            ]
        },
        {
            "cell_type": "code",
            "execution_count": 0,
            "metadata": {},
            "outputs": [],
            "source": [
                ""
            ]
        },
        {
            "attachments": {},
            "cell_type": "markdown",
            "metadata": {},
            "source": [
                "## Task 2 - Execute your code...in pieces!\n",
                "\n",
                "Write a function that takes in your data, including the assignment vector, then outputs a difference of CTR between the 2 groups. You can assume there are only 2 groups."
            ]
        },
        {
            "cell_type": "code",
            "execution_count": 1,
            "metadata": {},
            "outputs": [],
            "source": [
                "import numpy as np"
            ]
        },
        {
            "cell_type": "code",
            "execution_count": 2,
            "metadata": {},
            "outputs": [],
            "source": [
                "assign = np.loadtxt(\"sim_ab_test_assignment.csv\", delimiter=\",\", dtype=str)\n",
                "clicks = np.loadtxt(\"sim_ab_test_clicks.csv\", delimiter=\",\")\n",
                "views = np.loadtxt(\"sim_ab_test_views.csv\", delimiter=\",\")"
            ]
        },
        {
            "cell_type": "code",
            "execution_count": 3,
            "metadata": {},
            "outputs": [],
            "source": [
                "tot_clicks_user = np.apply_along_axis(np.sum, 1, clicks)\n",
                "tot_views_user = np.apply_along_axis(np.sum, 1, views)"
            ]
        },
        {
            "cell_type": "code",
            "execution_count": 4,
            "metadata": {},
            "outputs": [
                {
                    "data": {
                        "text/plain": "1000"
                    },
                    "execution_count": 4,
                    "metadata": {},
                    "output_type": "execute_result"
                }
            ],
            "source": [
                "len(tot_clicks_user)"
            ]
        },
        {
            "cell_type": "code",
            "execution_count": 5,
            "metadata": {},
            "outputs": [],
            "source": [
                "groupA = assign == \"True\"\n",
                "groupB = assign == \"False\"\n",
                "ctr_a = sum(tot_clicks_user[groupA]) / sum(tot_views_user[groupA])\n",
                "ctr_b = sum(tot_clicks_user[groupB]) / sum(tot_views_user[groupB])"
            ]
        },
        {
            "cell_type": "code",
            "execution_count": 6,
            "metadata": {},
            "outputs": [],
            "source": [
                "obs_ctr_diff = ctr_a - ctr_b"
            ]
        },
        {
            "cell_type": "code",
            "execution_count": 7,
            "metadata": {},
            "outputs": [
                {
                    "data": {
                        "text/plain": "0.05303067971972465"
                    },
                    "execution_count": 7,
                    "metadata": {},
                    "output_type": "execute_result"
                }
            ],
            "source": [
                "obs_ctr_diff"
            ]
        },
        {
            "cell_type": "code",
            "execution_count": 8,
            "metadata": {},
            "outputs": [],
            "source": [
                "def calc_ctr_diff(tot_clicks_user, tot_views_user, assign):\n",
                "    groupA = assign == \"True\"\n",
                "    groupB = assign == \"False\"\n",
                "    ctr_a = sum(tot_clicks_user[groupA]) / sum(tot_views_user[groupA])\n",
                "    ctr_b = sum(tot_clicks_user[groupB]) / sum(tot_views_user[groupB])\n",
                "    return ctr_a - ctr_b\n",
                ""
            ]
        },
        {
            "cell_type": "code",
            "execution_count": 9,
            "metadata": {},
            "outputs": [
                {
                    "data": {
                        "text/plain": "0.05303067971972465"
                    },
                    "execution_count": 9,
                    "metadata": {},
                    "output_type": "execute_result"
                }
            ],
            "source": [
                "calc_ctr_diff(tot_clicks_user, tot_views_user, assign)"
            ]
        },
        {
            "attachments": {},
            "cell_type": "markdown",
            "metadata": {},
            "source": [
                "## Task 3 - Randomization\n",
                "\n",
                "Write some code that will randomdize your assignments. Hint: `numpy.random.choice`, test this out first!\n",
                "- Do we want to do this with or without replacement?"
            ]
        },
        {
            "cell_type": "code",
            "execution_count": 10,
            "metadata": {},
            "outputs": [],
            "source": [
                "arr = assign"
            ]
        },
        {
            "cell_type": "code",
            "execution_count": 11,
            "metadata": {},
            "outputs": [],
            "source": [
                ""
            ]
        },
        {
            "cell_type": "code",
            "execution_count": 12,
            "metadata": {},
            "outputs": [],
            "source": [
                "perm_assign = np.random.choice(arr, len(arr), replace=False)"
            ]
        },
        {
            "cell_type": "code",
            "execution_count": 13,
            "metadata": {},
            "outputs": [
                {
                    "data": {
                        "text/plain": "False"
                    },
                    "execution_count": 13,
                    "metadata": {},
                    "output_type": "execute_result"
                }
            ],
            "source": [
                "(assign == perm_assign).all()"
            ]
        },
        {
            "cell_type": "code",
            "execution_count": 14,
            "metadata": {},
            "outputs": [
                {
                    "data": {
                        "text/plain": "54"
                    },
                    "execution_count": 14,
                    "metadata": {},
                    "output_type": "execute_result"
                }
            ],
            "source": [
                "np.sum(assign == \"True\")"
            ]
        },
        {
            "cell_type": "code",
            "execution_count": 15,
            "metadata": {},
            "outputs": [
                {
                    "data": {
                        "text/plain": "54"
                    },
                    "execution_count": 15,
                    "metadata": {},
                    "output_type": "execute_result"
                }
            ],
            "source": [
                "np.sum(perm_assign == \"True\")"
            ]
        },
        {
            "attachments": {},
            "cell_type": "markdown",
            "metadata": {},
            "source": [
                "## Task 4 - Repeating the process\n",
                "\n",
                "Repeat the randomization \u0026 calculation B=1000 times, storing your calculation in a variable called `perm_diffs`\n",
                "- What data type should `perm_diffs` be?\n",
                "- What is the mean of `perm_diffs`?\n",
                "- What is the SD of `perm_diffs`?\n",
                "- What percentage of `perm_diffs` values are below `k` SDs from the mean? Where `k` is `[3, 2, 1, 0, -1, -2, -3]` ?\n",
                "- Is `B=1000` sufficient? (no code! just type out what would you do)"
            ]
        },
        {
            "cell_type": "code",
            "execution_count": 16,
            "metadata": {},
            "outputs": [],
            "source": [
                ""
            ]
        },
        {
            "cell_type": "code",
            "execution_count": 17,
            "metadata": {},
            "outputs": [],
            "source": [
                "# list or dictionary or array\n",
                "perm_diffs = []\n",
                "B = 2000\n",
                "for i in range(B):\n",
                "    perm_assign = np.random.choice(arr, len(arr), replace=False)\n",
                "    perm_diff = calc_ctr_diff(tot_clicks_user, tot_views_user, perm_assign)\n",
                "    perm_diffs.append(perm_diff)\n",
                "# Don't know, but I think it'll be close to ?????\n",
                "\n",
                ""
            ]
        },
        {
            "cell_type": "code",
            "execution_count": 18,
            "metadata": {},
            "outputs": [],
            "source": [
                "perm_diffs_mean = np.mean(perm_diffs)"
            ]
        },
        {
            "cell_type": "code",
            "execution_count": 19,
            "metadata": {},
            "outputs": [],
            "source": [
                "perm_diffs_std = np.std(perm_diffs)"
            ]
        },
        {
            "cell_type": "code",
            "execution_count": 20,
            "metadata": {},
            "outputs": [
                {
                    "name": "stdout",
                    "output_type": "stream",
                    "text": "0.05\n2.25\n15.4\n49.85\n84.45\n97.6\n99.7\n"
                }
            ],
            "source": [
                "ks = [3, 2, 1, 0, -1, -2, -3]\n",
                "\n",
                "for k in ks:\n",
                "    cutoff = k * perm_diffs_std\n",
                "    perc_below = np.mean(perm_diffs \u003c (perm_diffs_mean - cutoff)) * 100\n",
                "    print(perc_below)"
            ]
        },
        {
            "attachments": {},
            "cell_type": "markdown",
            "metadata": {},
            "source": [
                "## Task 5 - Getting a p-value\n",
                "\n",
                "Please calculate a p-value using your original assignment and `perm_diffs`, i.e. what the chance of seeing our observed statistic or something more extreme?\n",
                "\n",
                "- Would you use one-sided or a two tailed test? "
            ]
        },
        {
            "cell_type": "code",
            "execution_count": 21,
            "metadata": {},
            "outputs": [
                {
                    "data": {
                        "text/plain": "0.05303067971972465"
                    },
                    "execution_count": 21,
                    "metadata": {},
                    "output_type": "execute_result"
                }
            ],
            "source": [
                "obs_ctr_diff"
            ]
        },
        {
            "cell_type": "code",
            "execution_count": 22,
            "metadata": {},
            "outputs": [
                {
                    "data": {
                        "text/plain": "0"
                    },
                    "execution_count": 22,
                    "metadata": {},
                    "output_type": "execute_result"
                }
            ],
            "source": [
                "np.sum(perm_diffs \u003e= obs_ctr_diff)"
            ]
        },
        {
            "cell_type": "code",
            "execution_count": 23,
            "metadata": {},
            "outputs": [
                {
                    "data": {
                        "text/plain": "0"
                    },
                    "execution_count": 23,
                    "metadata": {},
                    "output_type": "execute_result"
                }
            ],
            "source": [
                "np.sum(perm_diffs \u003c= -obs_ctr_diff)"
            ]
        },
        {
            "cell_type": "code",
            "execution_count": 24,
            "metadata": {},
            "outputs": [
                {
                    "data": {
                        "text/plain": "0.51"
                    },
                    "execution_count": 24,
                    "metadata": {},
                    "output_type": "execute_result"
                }
            ],
            "source": [
                "np.mean(np.array(perm_diffs) \u003c 0)"
            ]
        },
        {
            "attachments": {},
            "cell_type": "markdown",
            "metadata": {},
            "source": [
                "## Task 6 - Comparing the permutation test to the Delta Method\n",
                "\n",
                "The delta method says that given:\n",
                "\n",
                "$\\frac{1}{\\sqrt{n}} \\left(\\begin{bmatrix} \\bar{X} \\\\ \\bar{Y}\\end{bmatrix} - \\begin{bmatrix} \\theta_x \\\\ \\theta_y \\end{bmatrix}\\right) \\stackrel{n\\to\\inf}{\\to} N(0, \\begin{bmatrix}\\sigma^2_x \u0026 \\sigma_{x,y} \\\\ \\sigma_{y, x} \u0026 \\sigma^2_y \\end{bmatrix})$\n",
                "\n",
                "Then a smooth transformation $g$, then  \n",
                "\n",
                "$\\frac{1}{\\sqrt{n}} \\left(g\\begin{pmatrix} \\bar{X} \\\\ \\bar{Y}\\end{pmatrix} - g\\begin{pmatrix} \\theta_x \\\\ \\theta_y \\end{pmatrix}\\right) \\to N(0, \\nabla g\\begin{pmatrix} \\theta_x \\\\ \\theta_y \\end{pmatrix}^T \\begin{bmatrix}\\sigma^2_x \u0026 \\sigma_{x,y} \\\\ \\sigma_{y, x} \u0026 \\sigma^2_y \\end{bmatrix} \\nabla g\\begin{pmatrix} \\theta_x \\\\ \\theta_y \\end{pmatrix})$\n",
                "\n",
                "In our case,\n",
                "$g\\begin{pmatrix} \\bar{X} \\\\ \\bar{Y}\\end{pmatrix} = \\frac{\\bar{X}}{\\bar{Y}}$\n",
                "\n",
                "and\n",
                "\n",
                "$\\nabla g\\begin{pmatrix} \\theta_x \\\\ \\theta_Y \\end{pmatrix} = \\begin{bmatrix}\\frac{1}{\\theta_y} \\\\ -\\frac{\\theta_x}{\\theta_y^2} \\end{bmatrix}$\n",
                "\n",
                "Questions:\n",
                "- What is the p-value coming from the Delta method?\n",
                "  - Given we haven't covered `scikit-learn` which can tell us the p-value directly. Try simulating numbers from a normal distribution with the mean and SD you're deriving then compare this to your observed value (hint: `numpy.random.normal`)\n",
                "- What are the pro/con of the permutation test vs the delta method?"
            ]
        },
        {
            "cell_type": "code",
            "execution_count": 30,
            "metadata": {},
            "outputs": [
                {
                    "data": {
                        "text/plain": "array([[  7.07154254,  47.60544945],\n       [ 47.60544945, 929.10992593]])"
                    },
                    "execution_count": 30,
                    "metadata": {},
                    "output_type": "execute_result"
                }
            ],
            "source": [
                ""
            ]
        },
        {
            "cell_type": "code",
            "execution_count": 33,
            "metadata": {},
            "outputs": [
                {
                    "data": {
                        "text/plain": "array(7.07154254)"
                    },
                    "execution_count": 33,
                    "metadata": {},
                    "output_type": "execute_result"
                }
            ],
            "source": [
                "np.cov(tot_clicks_user)"
            ]
        },
        {
            "cell_type": "code",
            "execution_count": 38,
            "metadata": {},
            "outputs": [],
            "source": [
                "def calc_delta(tot_clicks, tot_views):\n",
                "    x_bar = np.mean(tot_clicks)\n",
                "    y_bar = np.mean(tot_views)\n",
                "    grad = np.vstack([1 / y_bar, -x_bar / y_bar**2])\n",
                "    cov_xy = np.cov(np.vstack([tot_clicks, tot_views]))\n",
                "    return grad.T.dot(cov_xy).dot(grad)"
            ]
        },
        {
            "cell_type": "code",
            "execution_count": 39,
            "metadata": {},
            "outputs": [],
            "source": [
                "ctr_A_var = calc_delta(tot_clicks_user[groupA], tot_views_user[groupA])\n",
                "ctr_B_var = calc_delta(tot_clicks_user[groupB], tot_views_user[groupB])"
            ]
        },
        {
            "attachments": {},
            "cell_type": "markdown",
            "metadata": {},
            "source": [
                "$SE(A - B) = \\sqrt{Var(A - B)} = \\sqrt{Var(A) + Var(B) - 2Cov(A, B)} \\stackrel{ind}{=} \\sqrt{Var(A) + Var(B)}$"
            ]
        },
        {
            "cell_type": "code",
            "execution_count": 45,
            "metadata": {},
            "outputs": [],
            "source": [
                "se_ctr_diff = np.sqrt(ctr_A_var + ctr_B_var)"
            ]
        },
        {
            "cell_type": "code",
            "execution_count": 42,
            "metadata": {},
            "outputs": [
                {
                    "data": {
                        "text/plain": "0.05303067971972465"
                    },
                    "execution_count": 42,
                    "metadata": {},
                    "output_type": "execute_result"
                }
            ],
            "source": [
                "obs_ctr_diff"
            ]
        },
        {
            "cell_type": "code",
            "execution_count": 43,
            "metadata": {},
            "outputs": [
                {
                    "data": {
                        "text/plain": "array([[0.0012168]])"
                    },
                    "execution_count": 43,
                    "metadata": {},
                    "output_type": "execute_result"
                }
            ],
            "source": [
                "ctr_A_var"
            ]
        },
        {
            "cell_type": "code",
            "execution_count": 44,
            "metadata": {},
            "outputs": [
                {
                    "data": {
                        "text/plain": "array([[0.00076187]])"
                    },
                    "execution_count": 44,
                    "metadata": {},
                    "output_type": "execute_result"
                }
            ],
            "source": [
                "ctr_B_var"
            ]
        },
        {
            "cell_type": "code",
            "execution_count": 46,
            "metadata": {},
            "outputs": [
                {
                    "data": {
                        "text/plain": "array([[1.19217642]])"
                    },
                    "execution_count": 46,
                    "metadata": {},
                    "output_type": "execute_result"
                }
            ],
            "source": [
                "obs_ctr_diff / se_ctr_diff"
            ]
        },
        {
            "attachments": {},
            "cell_type": "markdown",
            "metadata": {},
            "source": [
                "## p-value won't be small!\n",
                "\n",
                "- Delta method depends on large sample sizes\n",
                "- Permutation test can work with arbitrary dataset size"
            ]
        },
        {
            "attachments": {},
            "cell_type": "markdown",
            "metadata": {},
            "source": [
                "## The value is larger than 1 but laess than 2. We know this p-value is larger than 0.05.\n",
                "To get the exact p-value we'll need to load libraries like `scipy`."
            ]
        },
        {
            "cell_type": "code",
            "execution_count": 1,
            "metadata": {},
            "outputs": [
                {
                    "ename": "SyntaxError",
                    "evalue": "unterminated string literal (detected at line 2) (1921109259.py, line 2)",
                    "output_type": "error",
                    "traceback": [
                        "\u001b[0;36m  Input \u001b[0;32mIn [1]\u001b[0;36m\u001b[0m\n\u001b[0;31m    To get the exact p-value we'll need to load libraries like `scipy`.\u001b[0m\n\u001b[0m                               ^\u001b[0m\n\u001b[0;31mSyntaxError\u001b[0m\u001b[0;31m:\u001b[0m unterminated string literal (detected at line 2)\n"
                    ]
                }
            ],
            "source": [
                ""
            ]
        },
        {
            "cell_type": "code",
            "execution_count": 0,
            "metadata": {},
            "outputs": [],
            "source": [
                ""
            ]
        }
    ]
}
