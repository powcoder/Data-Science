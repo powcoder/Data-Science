{
    "metadata": {
        "kernelspec": {
            "name": "python3",
            "display_name": "Python 3 (ipykernel)",
            "language": "python"
        }
    },
    "nbformat": 4,
    "nbformat_minor": 2,
    "cells": [
        {
            "attachments": {},
            "cell_type": "markdown",
            "metadata": {},
            "source": [
                "## AB Testing Simulation\n",
                "\n",
                "Now that we've finished the AB testing calculation GIVEN data. How do we get the data?\n",
                "\n",
                "The goal of this exercise is to create data like the one you see in your previous lesson. Here are some parameters:\n",
                "- There are 14 days and 1000 users\n",
                "- Assume user ids range from 0 to 999, hint: `list(range(5))`\n",
                "- Each user has a 50% chance of visiting each day. If they don't visit, no views are created.\n",
                "- A user should be assigned to the same treatment/control group across the days!\n",
                "- Only 5% of the users should be assigned to treatment \n",
                "- A user's distribution for views follows a $Geometric(p=0.1)$. Hint: `numpy.random.geometric`\n",
                "- A user's distribution for clicks **given** their views follows a $Binomial(n=views, p_*)$, where $p_a$ and $p_b$, the probability of a click given a view for group A and B should be parametrized, i.e. coded so we can change it later. Hint: `numpy.random.binomial`\n",
                "- Compile all the data into 2 matrices, each are 1000 by 14, called `clicks` and `views`. Hint: `numpy.vstack()` or `numpy.hstack()`\n",
                ""
            ]
        },
        {
            "attachments": {},
            "cell_type": "markdown",
            "metadata": {},
            "source": [
                "## Task 1\n",
                "\n",
                "Create an variable `assign` that contains the treatment/control status for each user.\n",
                "- What data type can this be? Later we will need to pull up user X's treatment status quickly!\n",
                ""
            ]
        },
        {
            "cell_type": "code",
            "execution_count": 33,
            "metadata": {},
            "outputs": [],
            "source": [
                "# assign can be a list or dictionary\n",
                "n = 1000"
            ]
        },
        {
            "cell_type": "code",
            "execution_count": 36,
            "metadata": {},
            "outputs": [],
            "source": [
                "assign = np.random.choice(['Treat', 'Control'], size=n, p=[0.05, 0.95])"
            ]
        },
        {
            "cell_type": "code",
            "execution_count": 37,
            "metadata": {},
            "outputs": [
                {
                    "data": {
                        "text/plain": "array(['Control', 'Control', 'Control', 'Control', 'Control', 'Treat',\n       'Control', 'Control', 'Control', 'Control'], dtype='\u003cU7')"
                    },
                    "execution_count": 37,
                    "metadata": {},
                    "output_type": "execute_result"
                }
            ],
            "source": [
                "assign[:10]"
            ]
        },
        {
            "attachments": {},
            "cell_type": "markdown",
            "metadata": {},
            "source": [
                "## Task 2\n",
                "\n",
                "Simulate a single user's visit on a single day then wrap this inside a function.\n",
                "- Given a user's id, return two numbers, the number of clicks and views\n",
                "  - hint: you can return 2 values like\n",
                "  ```\n",
                "  def my_func(x):\n",
                "      return x, x + 1\n",
                "  ```\n",
                "  - Question, do we need to pass the assignment variable into the function?"
            ]
        },
        {
            "cell_type": "code",
            "execution_count": 39,
            "metadata": {},
            "outputs": [],
            "source": [
                "import numpy as np\n",
                "def sim_click_views(ctr_prob, view_p=0.1, login_rate=0.5):\n",
                "    if np.random.uniform(size=1) \u003e= login_rate:\n",
                "        return 0, 0\n",
                "    views = np.random.geometric(view_p)\n",
                "    clicks = np.random.binomial(views, ctr_prob)\n",
                "    return views, clicks"
            ]
        },
        {
            "cell_type": "code",
            "execution_count": 40,
            "metadata": {},
            "outputs": [
                {
                    "data": {
                        "text/plain": "(3, 0)"
                    },
                    "execution_count": 40,
                    "metadata": {},
                    "output_type": "execute_result"
                }
            ],
            "source": [
                "sim_click_views(0.05)"
            ]
        },
        {
            "attachments": {},
            "cell_type": "markdown",
            "metadata": {},
            "source": [
                "## Task 3\n",
                "\n",
                "Finish the whole task! Try writing a loop within another loop, e.g.\n",
                "```\n",
                "for i in range(3):\n",
                "    for j in range(4):\n",
                "        print(i + j)\n",
                "```"
            ]
        },
        {
            "cell_type": "code",
            "execution_count": 38,
            "metadata": {},
            "outputs": [],
            "source": [
                "days = 14\n",
                "views = np.zeros((n, days))\n",
                "clicks = views.copy()"
            ]
        },
        {
            "cell_type": "code",
            "execution_count": 41,
            "metadata": {},
            "outputs": [],
            "source": [
                "for day in range(days):\n",
                "    for uid in range(n):\n",
                "        ctr = 0.05 if assign[uid] == 'control' else 0.1\n",
                "        view, click = sim_click_views(ctr)\n",
                "        views[uid, day] = view\n",
                "        clicks[uid, day] = click"
            ]
        },
        {
            "attachments": {},
            "cell_type": "markdown",
            "metadata": {},
            "source": [
                "## Task 4\n",
                "\n",
                "Write the data to a file then try to download it!\n",
                "Hint: `numpy.savetxt`"
            ]
        },
        {
            "cell_type": "code",
            "execution_count": 43,
            "metadata": {},
            "outputs": [],
            "source": [
                "np.savetxt(\"sim_ab_views.csv\", views, delimiter=',')\n",
                "np.savetxt(\"sim_ab_clicks.csv\", clicks, delimiter=',')"
            ]
        },
        {
            "cell_type": "code",
            "execution_count": 0,
            "metadata": {},
            "outputs": [],
            "source": [
                ""
            ]
        }
    ]
}
