{
 "cells": [
  {
   "cell_type": "markdown",
   "id": "1546e572",
   "metadata": {},
   "source": [
    "# Inspirational Quotes\n",
    "\n",
    "Text is a popular form of data. To switch up the mood, let's examine some inspirational quotes for our exam!"
   ]
  },
  {
   "cell_type": "markdown",
   "id": "4be7c2e7",
   "metadata": {},
   "source": [
    "#### Exam Rules\n",
    "\n",
    "- This is an open-book, open-note, open-internet exam.\n",
    "- You cannot consult another intelligent being for this exam nor should you distribute this exam on any platform.\n",
    "- You need to submit a .ipynb file AND the corresponding HTML file for your exam.\n",
    "- The following can incur a penalty on your exam:\n",
    "  - Any attempts to print out all of the data (unless explicitly asked for) will be penalized.\n",
    "  - Hardcode solutions unless you were instructed to do so.\n",
    "  - Asking the following type of questions:\n",
    "    - Question about the differences between your solution and the backup dataset.\n",
    "    - Question about partial credit or specific grade distributions within the problem\n",
    "    - Questions about install Jupyter Notebook or packages used in class\n",
    "    - The backup datasets are not meant to validate your answers and steps have been taken to prevent you from doing so. Using the backup datasets will result in a small penalty for the question that was meant to generate the dataset. You can later remove the use of the backup dataset if you solved the problem, then there will be no penalty.\n",
    "    If you use an external source to solve the final, please cite the URL with a comment so we know you grabbed it from online and not from each other.\n",
    "    Please read the entire exam before asking questions."
   ]
  },
  {
   "cell_type": "markdown",
   "id": "c6e4cc44",
   "metadata": {},
   "source": [
    "## Quesiton 0 - Honor Code\n",
    "\n",
    "We, the students of Columbia University, hereby pledge to value the integrity of our ideas and the ideas of others by honestly presenting our work, respecting authorship, and striving not simply for answers but for understanding in the pursuit of our common scholastic goals. In this way, we seek to build an academic community governed by our collective efforts, diligence, and Code of Honor.\n",
    "\n",
    "I affirm that I will not plagiarize, use unauthorized materials, or give or receive illegitimate help on assignments, papers, or examinations. I will also uphold equity and honesty in the evaluation of my work and the work of others. I do so to sustain a community built around this Code of Honor.\n",
    "\n",
    "Have you read and agree to the honor code?\n",
    "\n",
    "- To answer this, please create a variable called `\"i_will_follow_the_honor_code\"` and assign the appropriate `True` or `False` value to it.\n",
    "- You must also create a character variable called `\"UNI\"` that contains your UNI.\n",
    "- WARNING: You will receive 0 points for the exam if you do not get this problem correct."
   ]
  },
  {
   "cell_type": "code",
   "execution_count": null,
   "id": "80d4651a",
   "metadata": {},
   "outputs": [],
   "source": [
    "i_will_follow_the_honor_code = "
   ]
  },
  {
   "cell_type": "code",
   "execution_count": null,
   "id": "7c842263",
   "metadata": {},
   "outputs": [],
   "source": [
    "UNI = "
   ]
  },
  {
   "cell_type": "markdown",
   "id": "b595683c",
   "metadata": {},
   "source": [
    "## Q1 Getting the data (8 pts)\n",
    "\n",
    "[Quotable](https://github.com/lukePeavey/quotable) is an open-source API that serves quotes.\n",
    "\n",
    "Please read its documentation to obtain **all quotes** with the tag `\"famous-quotes\"` (please keep the metadata associated with each quote) and assign it to a variable called `\"fqs\"`. The metadata related to the query can be discarded (optional).\n",
    "Please print out the length of `\"fqs\"` in a human-readable message.\n",
    "\n",
    "If this API crashes due to the volume of our queries, please wait 30 seconds before calling the API again or take a screen shot of\n",
    "- your code\n",
    "- the error message\n",
    "- the time on your screen\n",
    "\n",
    "then use the backup dataset and move forward. You will not be penalized if your code is correct but the API is not repsonsive."
   ]
  },
  {
   "cell_type": "code",
   "execution_count": null,
   "id": "cc2c5a9c",
   "metadata": {},
   "outputs": [],
   "source": []
  },
  {
   "cell_type": "code",
   "execution_count": null,
   "id": "67458e89",
   "metadata": {},
   "outputs": [],
   "source": []
  },
  {
   "cell_type": "code",
   "execution_count": null,
   "id": "042f32e9",
   "metadata": {},
   "outputs": [],
   "source": []
  },
  {
   "cell_type": "code",
   "execution_count": null,
   "id": "e81fb04d",
   "metadata": {},
   "outputs": [],
   "source": []
  },
  {
   "cell_type": "markdown",
   "id": "b228a0b0",
   "metadata": {},
   "source": [
    "## Q2 - Exploring the data (6 pts)\n",
    "\n",
    "- How many unique tags are within our dataset? Be sure to use `print()` with a human-readable message for your answer.\n",
    "- Which author has the most quotes in our data set? Be sure to use `print()` with a human-readable message for your answer.\n",
    "- Please print out the longest quote, i.e. the quote with the most number of characters. Be sure to use `print()` with a human-readable message for your answer."
   ]
  },
  {
   "cell_type": "code",
   "execution_count": null,
   "id": "837333b3",
   "metadata": {},
   "outputs": [],
   "source": []
  },
  {
   "cell_type": "code",
   "execution_count": null,
   "id": "460932c7",
   "metadata": {},
   "outputs": [],
   "source": []
  },
  {
   "cell_type": "code",
   "execution_count": null,
   "id": "0b430941",
   "metadata": {},
   "outputs": [],
   "source": []
  },
  {
   "cell_type": "code",
   "execution_count": null,
   "id": "c51ad0b9",
   "metadata": {},
   "outputs": [],
   "source": []
  },
  {
   "cell_type": "code",
   "execution_count": null,
   "id": "2a7efd9b",
   "metadata": {},
   "outputs": [],
   "source": []
  },
  {
   "cell_type": "code",
   "execution_count": null,
   "id": "511e406f",
   "metadata": {},
   "outputs": [],
   "source": []
  },
  {
   "cell_type": "code",
   "execution_count": null,
   "id": "db4e03c3",
   "metadata": {},
   "outputs": [],
   "source": []
  },
  {
   "cell_type": "code",
   "execution_count": null,
   "id": "5971ca4d",
   "metadata": {},
   "outputs": [],
   "source": []
  },
  {
   "cell_type": "markdown",
   "id": "682367cc",
   "metadata": {},
   "source": [
    "## Q3 - Searching the quotes (6 pts)\n",
    "\n",
    "Please assign the unique words following the word `\"great\"` or `\"greatest\"` to a variable called `\"great_followers\"`. For example: `\"Greatest weather...\"`, the word following `\"greatest\"` would be `\"weather\"` and `\"it's great to...\"` would have `\"to\"` being the word following `\"great\"`. Note that if there are two occurrences of a match in a quote, you only need to grab one of the words that follows `\"great\"` or `\"greatest\"`\n",
    "\n",
    "- Please use regular expression in your solution.\n",
    "- Please print out `\"great_followers\"` AFTER sorting them according to Python's natural ordering of strings.\n",
    "- Please print out the length of `\"great_followers\"`."
   ]
  },
  {
   "cell_type": "code",
   "execution_count": null,
   "id": "f146a2dd",
   "metadata": {},
   "outputs": [],
   "source": []
  },
  {
   "cell_type": "code",
   "execution_count": null,
   "id": "fcfcedfd",
   "metadata": {},
   "outputs": [],
   "source": []
  },
  {
   "cell_type": "code",
   "execution_count": null,
   "id": "ce9b72af",
   "metadata": {},
   "outputs": [],
   "source": []
  },
  {
   "cell_type": "markdown",
   "id": "9254822f",
   "metadata": {},
   "source": [
    "## Q4 - Wrangling the data (8 pts)\n",
    "\n",
    "Please wrangle the data such that we have a data frame where each row represents a different author and the columns are titled:\n",
    "- name: The author's name\n",
    "- authorSlug: authorSlug in the original data\n",
    "- totalQuotes: The number of quotes in the dataset associated with this author\n",
    "- percModified: The percent of quotes that were modified since being added\n",
    "- avgModifiedDays: The average number of days required for the quotes from this author to be modified since its addition. Note that an unmodified quote should be recorded as 0 days given the `\"dateModified\"` is set to `\"dateAdded\"` by default.\n",
    "- avgQuoteLength: The average number of characters in the quotes from this author (ignore translation issues for the exam please).\n",
    "\n",
    "Please:\n",
    "- Assign the data frame to a variable called \"df\"\n",
    "- Print out a description of the \"shape\" of this data frame with a human-readable message.\n",
    "- Please show the 3 rows with the highest `\"avgModifiedDays\"` in this data frame."
   ]
  },
  {
   "cell_type": "code",
   "execution_count": 76,
   "id": "6e34a9ed",
   "metadata": {},
   "outputs": [],
   "source": [
    "# HINT:\n",
    "import pandas as pd\n",
    "weird_df = pd.DataFrame(fqs)\n",
    "weird_df.head(2)"
   ]
  },
  {
   "cell_type": "code",
   "execution_count": null,
   "id": "d85ef278",
   "metadata": {},
   "outputs": [],
   "source": []
  },
  {
   "cell_type": "code",
   "execution_count": null,
   "id": "b5a58c9b",
   "metadata": {},
   "outputs": [],
   "source": []
  },
  {
   "cell_type": "code",
   "execution_count": null,
   "id": "be22a1b3",
   "metadata": {},
   "outputs": [],
   "source": []
  },
  {
   "cell_type": "code",
   "execution_count": null,
   "id": "abc8cea3",
   "metadata": {},
   "outputs": [],
   "source": []
  },
  {
   "cell_type": "code",
   "execution_count": null,
   "id": "a4f62889",
   "metadata": {},
   "outputs": [],
   "source": []
  },
  {
   "cell_type": "code",
   "execution_count": null,
   "id": "311edd28",
   "metadata": {},
   "outputs": [],
   "source": []
  },
  {
   "cell_type": "code",
   "execution_count": null,
   "id": "9eab3324",
   "metadata": {},
   "outputs": [],
   "source": []
  },
  {
   "cell_type": "markdown",
   "id": "6d149507",
   "metadata": {},
   "source": [
    "## Q5 - Visualization (6 pts)\n",
    "\n",
    "- Please visualize the relationship between the average length of quotes vs the chance of the quote being modified across authors, using your answer from Q4. Please be sure to label your axes and have a descriptive title. The title does not have to be insightful. \n",
    "- Please articulate with 2 or fewer sentences why calculating a correlation between these two variables using our data frame could be flawed (no code)?"
   ]
  },
  {
   "cell_type": "code",
   "execution_count": null,
   "id": "f41f1585",
   "metadata": {},
   "outputs": [],
   "source": []
  },
  {
   "cell_type": "code",
   "execution_count": null,
   "id": "4b8b8a14",
   "metadata": {},
   "outputs": [],
   "source": []
  },
  {
   "cell_type": "code",
   "execution_count": null,
   "id": "b1ec7529",
   "metadata": {},
   "outputs": [],
   "source": []
  },
  {
   "cell_type": "markdown",
   "id": "0757248a",
   "metadata": {},
   "source": [
    "## Q6 - Data science Question (no code - 3 pts)\n",
    "\n",
    "We will assume that a modified quote happens only due to typos in the quote or attributing the quote to the wrong author, excluding minor modifications like adding tags or adding a period at the end of the quote. \n",
    "\n",
    "In this scenario, a large value for `avgModifiedDays` could imply that the quotes are not reliable even after a reasonable amount of time, i.e. bad data quality. However, this could also lead to bad incentives where Quotable is discouraged to modify any quotes to keep this metric low.\n",
    "\n",
    "Please propose a solution and explanation that is no more than 5 sentences that could solve this problem. You can propose a new metric, add an additional metric, or change definitions of the data. Your solution should be simple and cannot rely on additional data sources."
   ]
  },
  {
   "cell_type": "markdown",
   "id": "a6cdda05",
   "metadata": {},
   "source": []
  },
  {
   "cell_type": "code",
   "execution_count": null,
   "id": "348f062e",
   "metadata": {},
   "outputs": [],
   "source": []
  },
  {
   "cell_type": "code",
   "execution_count": null,
   "id": "50fc707e",
   "metadata": {},
   "outputs": [],
   "source": []
  }
 ],
 "metadata": {
  "kernelspec": {
   "display_name": "Python 3 (ipykernel)",
   "language": "python",
   "name": "python3"
  },
  "language_info": {
   "codemirror_mode": {
    "name": "ipython",
    "version": 3
   },
   "file_extension": ".py",
   "mimetype": "text/x-python",
   "name": "python",
   "nbconvert_exporter": "python",
   "pygments_lexer": "ipython3",
   "version": "3.8.11"
  }
 },
 "nbformat": 4,
 "nbformat_minor": 5
}
